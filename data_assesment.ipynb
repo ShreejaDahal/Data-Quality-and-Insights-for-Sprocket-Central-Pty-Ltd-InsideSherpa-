{
 "cells": [
  {
   "cell_type": "code",
   "execution_count": 1408,
   "metadata": {},
   "outputs": [],
   "source": [
    "import pandas as pd\n",
    "import numpy as np\n",
    "import matplotlib.pyplot as plt\n",
    "import matplotlib.image as mpimg\n",
    "#%matplotlib.inline\n",
    "import seaborn as sns"
   ]
  },
  {
   "cell_type": "code",
   "execution_count": 1409,
   "metadata": {},
   "outputs": [
    {
     "data": {
      "text/html": [
       "<div>\n",
       "<style scoped>\n",
       "    .dataframe tbody tr th:only-of-type {\n",
       "        vertical-align: middle;\n",
       "    }\n",
       "\n",
       "    .dataframe tbody tr th {\n",
       "        vertical-align: top;\n",
       "    }\n",
       "\n",
       "    .dataframe thead th {\n",
       "        text-align: right;\n",
       "    }\n",
       "</style>\n",
       "<table border=\"1\" class=\"dataframe\">\n",
       "  <thead>\n",
       "    <tr style=\"text-align: right;\">\n",
       "      <th></th>\n",
       "      <th>transaction_id</th>\n",
       "      <th>product_id</th>\n",
       "      <th>customer_id</th>\n",
       "      <th>transaction_date</th>\n",
       "      <th>online_order</th>\n",
       "      <th>order_status</th>\n",
       "      <th>brand</th>\n",
       "      <th>product_line</th>\n",
       "      <th>product_class</th>\n",
       "      <th>product_size</th>\n",
       "      <th>list_price</th>\n",
       "      <th>standard_cost</th>\n",
       "      <th>product_first_sold_date</th>\n",
       "    </tr>\n",
       "  </thead>\n",
       "  <tbody>\n",
       "    <tr>\n",
       "      <th>0</th>\n",
       "      <td>1</td>\n",
       "      <td>2</td>\n",
       "      <td>2950</td>\n",
       "      <td>2017-02-25</td>\n",
       "      <td>0.0</td>\n",
       "      <td>Approved</td>\n",
       "      <td>Solex</td>\n",
       "      <td>Standard</td>\n",
       "      <td>medium</td>\n",
       "      <td>medium</td>\n",
       "      <td>71.49</td>\n",
       "      <td>53.62</td>\n",
       "      <td>41245.0</td>\n",
       "    </tr>\n",
       "    <tr>\n",
       "      <th>1</th>\n",
       "      <td>2</td>\n",
       "      <td>3</td>\n",
       "      <td>3120</td>\n",
       "      <td>2017-05-21</td>\n",
       "      <td>1.0</td>\n",
       "      <td>Approved</td>\n",
       "      <td>Trek Bicycles</td>\n",
       "      <td>Standard</td>\n",
       "      <td>medium</td>\n",
       "      <td>large</td>\n",
       "      <td>2091.47</td>\n",
       "      <td>388.92</td>\n",
       "      <td>41701.0</td>\n",
       "    </tr>\n",
       "    <tr>\n",
       "      <th>2</th>\n",
       "      <td>3</td>\n",
       "      <td>37</td>\n",
       "      <td>402</td>\n",
       "      <td>2017-10-16</td>\n",
       "      <td>0.0</td>\n",
       "      <td>Approved</td>\n",
       "      <td>OHM Cycles</td>\n",
       "      <td>Standard</td>\n",
       "      <td>low</td>\n",
       "      <td>medium</td>\n",
       "      <td>1793.43</td>\n",
       "      <td>248.82</td>\n",
       "      <td>36361.0</td>\n",
       "    </tr>\n",
       "    <tr>\n",
       "      <th>3</th>\n",
       "      <td>4</td>\n",
       "      <td>88</td>\n",
       "      <td>3135</td>\n",
       "      <td>2017-08-31</td>\n",
       "      <td>0.0</td>\n",
       "      <td>Approved</td>\n",
       "      <td>Norco Bicycles</td>\n",
       "      <td>Standard</td>\n",
       "      <td>medium</td>\n",
       "      <td>medium</td>\n",
       "      <td>1198.46</td>\n",
       "      <td>381.10</td>\n",
       "      <td>36145.0</td>\n",
       "    </tr>\n",
       "    <tr>\n",
       "      <th>4</th>\n",
       "      <td>5</td>\n",
       "      <td>78</td>\n",
       "      <td>787</td>\n",
       "      <td>2017-10-01</td>\n",
       "      <td>1.0</td>\n",
       "      <td>Approved</td>\n",
       "      <td>Giant Bicycles</td>\n",
       "      <td>Standard</td>\n",
       "      <td>medium</td>\n",
       "      <td>large</td>\n",
       "      <td>1765.30</td>\n",
       "      <td>709.48</td>\n",
       "      <td>42226.0</td>\n",
       "    </tr>\n",
       "  </tbody>\n",
       "</table>\n",
       "</div>"
      ],
      "text/plain": [
       "   transaction_id  product_id  customer_id transaction_date  online_order  \\\n",
       "0               1           2         2950       2017-02-25           0.0   \n",
       "1               2           3         3120       2017-05-21           1.0   \n",
       "2               3          37          402       2017-10-16           0.0   \n",
       "3               4          88         3135       2017-08-31           0.0   \n",
       "4               5          78          787       2017-10-01           1.0   \n",
       "\n",
       "  order_status           brand product_line product_class product_size  \\\n",
       "0     Approved           Solex     Standard        medium       medium   \n",
       "1     Approved   Trek Bicycles     Standard        medium        large   \n",
       "2     Approved      OHM Cycles     Standard           low       medium   \n",
       "3     Approved  Norco Bicycles     Standard        medium       medium   \n",
       "4     Approved  Giant Bicycles     Standard        medium        large   \n",
       "\n",
       "   list_price  standard_cost  product_first_sold_date  \n",
       "0       71.49          53.62                  41245.0  \n",
       "1     2091.47         388.92                  41701.0  \n",
       "2     1793.43         248.82                  36361.0  \n",
       "3     1198.46         381.10                  36145.0  \n",
       "4     1765.30         709.48                  42226.0  "
      ]
     },
     "execution_count": 1409,
     "metadata": {},
     "output_type": "execute_result"
    }
   ],
   "source": [
    "df = pd.read_excel(\"transactions.xlsx\")\n",
    "df.head()"
   ]
  },
  {
   "cell_type": "code",
   "execution_count": 1410,
   "metadata": {},
   "outputs": [
    {
     "name": "stdout",
     "output_type": "stream",
     "text": [
      "Number of rows:  20000\n"
     ]
    },
    {
     "data": {
      "text/plain": [
       "transaction_id                      int64\n",
       "product_id                          int64\n",
       "customer_id                         int64\n",
       "transaction_date           datetime64[ns]\n",
       "online_order                      float64\n",
       "order_status                       object\n",
       "brand                              object\n",
       "product_line                       object\n",
       "product_class                      object\n",
       "product_size                       object\n",
       "list_price                        float64\n",
       "standard_cost                     float64\n",
       "product_first_sold_date           float64\n",
       "dtype: object"
      ]
     },
     "execution_count": 1410,
     "metadata": {},
     "output_type": "execute_result"
    }
   ],
   "source": [
    "print(\"Number of rows: \", len(df))\n",
    "df.dtypes"
   ]
  },
  {
   "cell_type": "code",
   "execution_count": 1411,
   "metadata": {},
   "outputs": [
    {
     "name": "stdout",
     "output_type": "stream",
     "text": [
      "The following columns have values NaN\n"
     ]
    },
    {
     "data": {
      "text/plain": [
       "transaction_id               0\n",
       "product_id                   0\n",
       "customer_id                  0\n",
       "transaction_date             0\n",
       "online_order               360\n",
       "order_status                 0\n",
       "brand                      197\n",
       "product_line               197\n",
       "product_class              197\n",
       "product_size               197\n",
       "list_price                   0\n",
       "standard_cost              197\n",
       "product_first_sold_date    197\n",
       "dtype: int64"
      ]
     },
     "execution_count": 1411,
     "metadata": {},
     "output_type": "execute_result"
    }
   ],
   "source": [
    "print(\"The following columns have values NaN\")\n",
    "df.isnull().sum()\n",
    "#Significant number of Nan values in the "
   ]
  },
  {
   "cell_type": "code",
   "execution_count": 1412,
   "metadata": {},
   "outputs": [
    {
     "data": {
      "text/plain": [
       "136      NaN\n",
       "159      NaN\n",
       "366      NaN\n",
       "406      NaN\n",
       "676      NaN\n",
       "        ... \n",
       "19340    NaN\n",
       "19383    NaN\n",
       "19793    NaN\n",
       "19859    NaN\n",
       "19871    NaN\n",
       "Name: brand, Length: 197, dtype: object"
      ]
     },
     "execution_count": 1412,
     "metadata": {},
     "output_type": "execute_result"
    }
   ],
   "source": [
    "df[df[\"standard_cost\"].isnull()][\"brand\"]"
   ]
  },
  {
   "cell_type": "code",
   "execution_count": 1413,
   "metadata": {},
   "outputs": [
    {
     "name": "stdout",
     "output_type": "stream",
     "text": [
      "0\n"
     ]
    },
    {
     "data": {
      "text/html": [
       "<div>\n",
       "<style scoped>\n",
       "    .dataframe tbody tr th:only-of-type {\n",
       "        vertical-align: middle;\n",
       "    }\n",
       "\n",
       "    .dataframe tbody tr th {\n",
       "        vertical-align: top;\n",
       "    }\n",
       "\n",
       "    .dataframe thead th {\n",
       "        text-align: right;\n",
       "    }\n",
       "</style>\n",
       "<table border=\"1\" class=\"dataframe\">\n",
       "  <thead>\n",
       "    <tr style=\"text-align: right;\">\n",
       "      <th></th>\n",
       "      <th>transaction_id</th>\n",
       "      <th>product_id</th>\n",
       "      <th>customer_id</th>\n",
       "      <th>transaction_date</th>\n",
       "      <th>online_order</th>\n",
       "      <th>order_status</th>\n",
       "      <th>brand</th>\n",
       "      <th>product_line</th>\n",
       "      <th>product_class</th>\n",
       "      <th>product_size</th>\n",
       "      <th>list_price</th>\n",
       "      <th>standard_cost</th>\n",
       "      <th>product_first_sold_date</th>\n",
       "    </tr>\n",
       "  </thead>\n",
       "  <tbody>\n",
       "    <tr>\n",
       "      <th>0</th>\n",
       "      <td>1</td>\n",
       "      <td>2</td>\n",
       "      <td>2950</td>\n",
       "      <td>2017-02-25</td>\n",
       "      <td>0.0</td>\n",
       "      <td>Approved</td>\n",
       "      <td>Solex</td>\n",
       "      <td>Standard</td>\n",
       "      <td>medium</td>\n",
       "      <td>medium</td>\n",
       "      <td>71.49</td>\n",
       "      <td>53.62</td>\n",
       "      <td>41245.0</td>\n",
       "    </tr>\n",
       "    <tr>\n",
       "      <th>1</th>\n",
       "      <td>2</td>\n",
       "      <td>3</td>\n",
       "      <td>3120</td>\n",
       "      <td>2017-05-21</td>\n",
       "      <td>1.0</td>\n",
       "      <td>Approved</td>\n",
       "      <td>Trek Bicycles</td>\n",
       "      <td>Standard</td>\n",
       "      <td>medium</td>\n",
       "      <td>large</td>\n",
       "      <td>2091.47</td>\n",
       "      <td>388.92</td>\n",
       "      <td>41701.0</td>\n",
       "    </tr>\n",
       "    <tr>\n",
       "      <th>2</th>\n",
       "      <td>3</td>\n",
       "      <td>37</td>\n",
       "      <td>402</td>\n",
       "      <td>2017-10-16</td>\n",
       "      <td>0.0</td>\n",
       "      <td>Approved</td>\n",
       "      <td>OHM Cycles</td>\n",
       "      <td>Standard</td>\n",
       "      <td>low</td>\n",
       "      <td>medium</td>\n",
       "      <td>1793.43</td>\n",
       "      <td>248.82</td>\n",
       "      <td>36361.0</td>\n",
       "    </tr>\n",
       "    <tr>\n",
       "      <th>3</th>\n",
       "      <td>4</td>\n",
       "      <td>88</td>\n",
       "      <td>3135</td>\n",
       "      <td>2017-08-31</td>\n",
       "      <td>0.0</td>\n",
       "      <td>Approved</td>\n",
       "      <td>Norco Bicycles</td>\n",
       "      <td>Standard</td>\n",
       "      <td>medium</td>\n",
       "      <td>medium</td>\n",
       "      <td>1198.46</td>\n",
       "      <td>381.10</td>\n",
       "      <td>36145.0</td>\n",
       "    </tr>\n",
       "    <tr>\n",
       "      <th>4</th>\n",
       "      <td>5</td>\n",
       "      <td>78</td>\n",
       "      <td>787</td>\n",
       "      <td>2017-10-01</td>\n",
       "      <td>1.0</td>\n",
       "      <td>Approved</td>\n",
       "      <td>Giant Bicycles</td>\n",
       "      <td>Standard</td>\n",
       "      <td>medium</td>\n",
       "      <td>large</td>\n",
       "      <td>1765.30</td>\n",
       "      <td>709.48</td>\n",
       "      <td>42226.0</td>\n",
       "    </tr>\n",
       "  </tbody>\n",
       "</table>\n",
       "</div>"
      ],
      "text/plain": [
       "   transaction_id  product_id  customer_id transaction_date  online_order  \\\n",
       "0               1           2         2950       2017-02-25           0.0   \n",
       "1               2           3         3120       2017-05-21           1.0   \n",
       "2               3          37          402       2017-10-16           0.0   \n",
       "3               4          88         3135       2017-08-31           0.0   \n",
       "4               5          78          787       2017-10-01           1.0   \n",
       "\n",
       "  order_status           brand product_line product_class product_size  \\\n",
       "0     Approved           Solex     Standard        medium       medium   \n",
       "1     Approved   Trek Bicycles     Standard        medium        large   \n",
       "2     Approved      OHM Cycles     Standard           low       medium   \n",
       "3     Approved  Norco Bicycles     Standard        medium       medium   \n",
       "4     Approved  Giant Bicycles     Standard        medium        large   \n",
       "\n",
       "   list_price  standard_cost  product_first_sold_date  \n",
       "0       71.49          53.62                  41245.0  \n",
       "1     2091.47         388.92                  41701.0  \n",
       "2     1793.43         248.82                  36361.0  \n",
       "3     1198.46         381.10                  36145.0  \n",
       "4     1765.30         709.48                  42226.0  "
      ]
     },
     "execution_count": 1413,
     "metadata": {},
     "output_type": "execute_result"
    }
   ],
   "source": [
    "df.fillna({'standard_cost': df.list_price}, inplace=True)\n",
    "print(df.standard_cost.isnull().sum())\n",
    "df.head()"
   ]
  },
  {
   "cell_type": "code",
   "execution_count": 1414,
   "metadata": {},
   "outputs": [
    {
     "data": {
      "text/html": [
       "<div>\n",
       "<style scoped>\n",
       "    .dataframe tbody tr th:only-of-type {\n",
       "        vertical-align: middle;\n",
       "    }\n",
       "\n",
       "    .dataframe tbody tr th {\n",
       "        vertical-align: top;\n",
       "    }\n",
       "\n",
       "    .dataframe thead th {\n",
       "        text-align: right;\n",
       "    }\n",
       "</style>\n",
       "<table border=\"1\" class=\"dataframe\">\n",
       "  <thead>\n",
       "    <tr style=\"text-align: right;\">\n",
       "      <th></th>\n",
       "      <th>count</th>\n",
       "      <th>mean</th>\n",
       "      <th>std</th>\n",
       "      <th>min</th>\n",
       "      <th>25%</th>\n",
       "      <th>50%</th>\n",
       "      <th>75%</th>\n",
       "      <th>max</th>\n",
       "    </tr>\n",
       "  </thead>\n",
       "  <tbody>\n",
       "    <tr>\n",
       "      <th>transaction_id</th>\n",
       "      <td>20000.0</td>\n",
       "      <td>10000.500000</td>\n",
       "      <td>5773.647028</td>\n",
       "      <td>1.00</td>\n",
       "      <td>5000.75</td>\n",
       "      <td>10000.50</td>\n",
       "      <td>15000.25</td>\n",
       "      <td>20000.00</td>\n",
       "    </tr>\n",
       "    <tr>\n",
       "      <th>product_id</th>\n",
       "      <td>20000.0</td>\n",
       "      <td>45.364650</td>\n",
       "      <td>30.753590</td>\n",
       "      <td>0.00</td>\n",
       "      <td>18.00</td>\n",
       "      <td>44.00</td>\n",
       "      <td>72.00</td>\n",
       "      <td>100.00</td>\n",
       "    </tr>\n",
       "    <tr>\n",
       "      <th>customer_id</th>\n",
       "      <td>20000.0</td>\n",
       "      <td>1738.246050</td>\n",
       "      <td>1011.951046</td>\n",
       "      <td>1.00</td>\n",
       "      <td>857.75</td>\n",
       "      <td>1736.00</td>\n",
       "      <td>2613.00</td>\n",
       "      <td>5034.00</td>\n",
       "    </tr>\n",
       "    <tr>\n",
       "      <th>online_order</th>\n",
       "      <td>19640.0</td>\n",
       "      <td>0.500458</td>\n",
       "      <td>0.500013</td>\n",
       "      <td>0.00</td>\n",
       "      <td>0.00</td>\n",
       "      <td>1.00</td>\n",
       "      <td>1.00</td>\n",
       "      <td>1.00</td>\n",
       "    </tr>\n",
       "    <tr>\n",
       "      <th>list_price</th>\n",
       "      <td>20000.0</td>\n",
       "      <td>1107.829449</td>\n",
       "      <td>582.825242</td>\n",
       "      <td>12.01</td>\n",
       "      <td>575.27</td>\n",
       "      <td>1163.89</td>\n",
       "      <td>1635.30</td>\n",
       "      <td>2091.47</td>\n",
       "    </tr>\n",
       "    <tr>\n",
       "      <th>standard_cost</th>\n",
       "      <td>20000.0</td>\n",
       "      <td>561.315251</td>\n",
       "      <td>411.549785</td>\n",
       "      <td>7.21</td>\n",
       "      <td>215.14</td>\n",
       "      <td>507.58</td>\n",
       "      <td>795.10</td>\n",
       "      <td>2086.07</td>\n",
       "    </tr>\n",
       "    <tr>\n",
       "      <th>product_first_sold_date</th>\n",
       "      <td>19803.0</td>\n",
       "      <td>38199.776549</td>\n",
       "      <td>2875.201110</td>\n",
       "      <td>33259.00</td>\n",
       "      <td>35667.00</td>\n",
       "      <td>38216.00</td>\n",
       "      <td>40672.00</td>\n",
       "      <td>42710.00</td>\n",
       "    </tr>\n",
       "  </tbody>\n",
       "</table>\n",
       "</div>"
      ],
      "text/plain": [
       "                           count          mean          std       min  \\\n",
       "transaction_id           20000.0  10000.500000  5773.647028      1.00   \n",
       "product_id               20000.0     45.364650    30.753590      0.00   \n",
       "customer_id              20000.0   1738.246050  1011.951046      1.00   \n",
       "online_order             19640.0      0.500458     0.500013      0.00   \n",
       "list_price               20000.0   1107.829449   582.825242     12.01   \n",
       "standard_cost            20000.0    561.315251   411.549785      7.21   \n",
       "product_first_sold_date  19803.0  38199.776549  2875.201110  33259.00   \n",
       "\n",
       "                              25%       50%       75%       max  \n",
       "transaction_id            5000.75  10000.50  15000.25  20000.00  \n",
       "product_id                  18.00     44.00     72.00    100.00  \n",
       "customer_id                857.75   1736.00   2613.00   5034.00  \n",
       "online_order                 0.00      1.00      1.00      1.00  \n",
       "list_price                 575.27   1163.89   1635.30   2091.47  \n",
       "standard_cost              215.14    507.58    795.10   2086.07  \n",
       "product_first_sold_date  35667.00  38216.00  40672.00  42710.00  "
      ]
     },
     "execution_count": 1414,
     "metadata": {},
     "output_type": "execute_result"
    }
   ],
   "source": [
    "df.describe().T"
   ]
  },
  {
   "cell_type": "code",
   "execution_count": 1415,
   "metadata": {},
   "outputs": [
    {
     "name": "stdout",
     "output_type": "stream",
     "text": [
      "['Solex' 'Trek Bicycles' 'OHM Cycles' 'Norco Bicycles' 'Giant Bicycles'\n",
      " 'WeareA2B' nan]\n"
     ]
    }
   ],
   "source": [
    "#The brands heavily influence the total sells. Analyze all the different brands\n",
    "#197 missing value for brand type \n",
    "print(df.brand.unique())"
   ]
  },
  {
   "cell_type": "code",
   "execution_count": 1416,
   "metadata": {},
   "outputs": [
    {
     "name": "stdout",
     "output_type": "stream",
     "text": [
      "Solex             4253\n",
      "Giant Bicycles    3312\n",
      "WeareA2B          3295\n",
      "OHM Cycles        3043\n",
      "Trek Bicycles     2990\n",
      "Name: brand, dtype: int64\n",
      "Brands with most sales:  Solex\n"
     ]
    }
   ],
   "source": [
    "#df_c = df.sort_values('brand')\n",
    "print(df.brand.value_counts().head(5))\n",
    "#print(sorting_df)\n",
    "top_brand = df.brand.value_counts().idxmax()\n",
    "print('Brands with most sales: ', top_brand)"
   ]
  },
  {
   "cell_type": "code",
   "execution_count": 1417,
   "metadata": {
    "scrolled": true
   },
   "outputs": [
    {
     "data": {
      "text/plain": [
       "Text(0.5, 1.0, 'brand')"
      ]
     },
     "execution_count": 1417,
     "metadata": {},
     "output_type": "execute_result"
    },
    {
     "data": {
      "image/png": "[encoded data removed]",
      "text/plain": [
       "<Figure size 1800x432 with 1 Axes>"
      ]
     },
     "metadata": {
      "needs_background": "light"
     },
     "output_type": "display_data"
    }
   ],
   "source": [
    "sns.countplot(df['brand'], palette = \"plasma\", order = df['brand'].value_counts().index)\n",
    "fig = plt.gcf()\n",
    "fig.set_size_inches(25,6)\n",
    "plt.title('brand')"
   ]
  },
  {
   "cell_type": "code",
   "execution_count": 1418,
   "metadata": {},
   "outputs": [
    {
     "name": "stdout",
     "output_type": "stream",
     "text": [
      "[ 0.  1. nan]\n"
     ]
    }
   ],
   "source": [
    "print(df.online_order.unique())"
   ]
  },
  {
   "cell_type": "code",
   "execution_count": 1419,
   "metadata": {},
   "outputs": [
    {
     "name": "stdout",
     "output_type": "stream",
     "text": [
      "1.0    9829\n",
      "0.0    9811\n",
      "Name: online_order, dtype: int64\n",
      "Most orders are 1.0\n"
     ]
    }
   ],
   "source": [
    "print(df.online_order.value_counts().head(5))\n",
    "orders = df.online_order.value_counts().idxmax()\n",
    "print('Most orders are', orders)"
   ]
  },
  {
   "cell_type": "code",
   "execution_count": 1420,
   "metadata": {},
   "outputs": [
    {
     "data": {
      "text/plain": [
       "Text(0.5, 1.0, 'online_order')"
      ]
     },
     "execution_count": 1420,
     "metadata": {},
     "output_type": "execute_result"
    },
    {
     "data": {
      "image/png": "[encoded data removed]",
      "text/plain": [
       "<Figure size 1800x432 with 1 Axes>"
      ]
     },
     "metadata": {
      "needs_background": "light"
     },
     "output_type": "display_data"
    }
   ],
   "source": [
    "sns.countplot(df['online_order'], palette = \"plasma\")\n",
    "fig = plt.gcf()\n",
    "fig.set_size_inches(25,6)\n",
    "plt.title('online_order')"
   ]
  },
  {
   "cell_type": "code",
   "execution_count": 1421,
   "metadata": {},
   "outputs": [
    {
     "data": {
      "text/plain": [
       "<matplotlib.legend.Legend at 0x7f2b3f22b668>"
      ]
     },
     "execution_count": 1421,
     "metadata": {},
     "output_type": "execute_result"
    },
    {
     "data": {
      "image/png": "[encoded data removed]",
      "text/plain": [
       "<Figure size 1080x432 with 1 Axes>"
      ]
     },
     "metadata": {
      "needs_background": "light"
     },
     "output_type": "display_data"
    }
   ],
   "source": [
    "plt.figure(figsize=(15,6))\n",
    "sns.countplot(x= df.brand,hue=df.product_line, palette='GnBu_d')\n",
    "plt.title('Type of product line', fontsize=15)\n",
    "plt.xlabel('Brand')\n",
    "plt.ylabel(\"Count\")\n",
    "plt.legend(frameon=False, fontsize=12)"
   ]
  },
  {
   "cell_type": "code",
   "execution_count": 1422,
   "metadata": {},
   "outputs": [
    {
     "data": {
      "text/plain": [
       "transaction_id                      int64\n",
       "product_id                          int64\n",
       "customer_id                         int64\n",
       "transaction_date           datetime64[ns]\n",
       "online_order                      float64\n",
       "order_status                       object\n",
       "brand                              object\n",
       "product_line                       object\n",
       "product_class                      object\n",
       "product_size                       object\n",
       "list_price                        float64\n",
       "standard_cost                     float64\n",
       "product_first_sold_date           float64\n",
       "dtype: object"
      ]
     },
     "execution_count": 1422,
     "metadata": {},
     "output_type": "execute_result"
    }
   ],
   "source": [
    "df.dtypes"
   ]
  },
  {
   "cell_type": "code",
   "execution_count": 1423,
   "metadata": {},
   "outputs": [
    {
     "data": {
      "text/html": [
       "<div>\n",
       "<style scoped>\n",
       "    .dataframe tbody tr th:only-of-type {\n",
       "        vertical-align: middle;\n",
       "    }\n",
       "\n",
       "    .dataframe tbody tr th {\n",
       "        vertical-align: top;\n",
       "    }\n",
       "\n",
       "    .dataframe thead th {\n",
       "        text-align: right;\n",
       "    }\n",
       "</style>\n",
       "<table border=\"1\" class=\"dataframe\">\n",
       "  <thead>\n",
       "    <tr style=\"text-align: right;\">\n",
       "      <th></th>\n",
       "      <th>transaction_id</th>\n",
       "      <th>product_id</th>\n",
       "      <th>customer_id</th>\n",
       "      <th>transaction_date</th>\n",
       "      <th>online_order</th>\n",
       "      <th>order_status</th>\n",
       "      <th>brand</th>\n",
       "      <th>product_line</th>\n",
       "      <th>product_class</th>\n",
       "      <th>product_size</th>\n",
       "      <th>list_price</th>\n",
       "      <th>standard_cost</th>\n",
       "      <th>product_first_sold_date</th>\n",
       "      <th>profit</th>\n",
       "    </tr>\n",
       "  </thead>\n",
       "  <tbody>\n",
       "    <tr>\n",
       "      <th>0</th>\n",
       "      <td>1</td>\n",
       "      <td>2</td>\n",
       "      <td>2950</td>\n",
       "      <td>2017-02-25</td>\n",
       "      <td>0.0</td>\n",
       "      <td>Approved</td>\n",
       "      <td>Solex</td>\n",
       "      <td>Standard</td>\n",
       "      <td>medium</td>\n",
       "      <td>medium</td>\n",
       "      <td>71.49</td>\n",
       "      <td>53.62</td>\n",
       "      <td>41245.0</td>\n",
       "      <td>17.87</td>\n",
       "    </tr>\n",
       "    <tr>\n",
       "      <th>1</th>\n",
       "      <td>2</td>\n",
       "      <td>3</td>\n",
       "      <td>3120</td>\n",
       "      <td>2017-05-21</td>\n",
       "      <td>1.0</td>\n",
       "      <td>Approved</td>\n",
       "      <td>Trek Bicycles</td>\n",
       "      <td>Standard</td>\n",
       "      <td>medium</td>\n",
       "      <td>large</td>\n",
       "      <td>2091.47</td>\n",
       "      <td>388.92</td>\n",
       "      <td>41701.0</td>\n",
       "      <td>1702.55</td>\n",
       "    </tr>\n",
       "    <tr>\n",
       "      <th>2</th>\n",
       "      <td>3</td>\n",
       "      <td>37</td>\n",
       "      <td>402</td>\n",
       "      <td>2017-10-16</td>\n",
       "      <td>0.0</td>\n",
       "      <td>Approved</td>\n",
       "      <td>OHM Cycles</td>\n",
       "      <td>Standard</td>\n",
       "      <td>low</td>\n",
       "      <td>medium</td>\n",
       "      <td>1793.43</td>\n",
       "      <td>248.82</td>\n",
       "      <td>36361.0</td>\n",
       "      <td>1544.61</td>\n",
       "    </tr>\n",
       "    <tr>\n",
       "      <th>3</th>\n",
       "      <td>4</td>\n",
       "      <td>88</td>\n",
       "      <td>3135</td>\n",
       "      <td>2017-08-31</td>\n",
       "      <td>0.0</td>\n",
       "      <td>Approved</td>\n",
       "      <td>Norco Bicycles</td>\n",
       "      <td>Standard</td>\n",
       "      <td>medium</td>\n",
       "      <td>medium</td>\n",
       "      <td>1198.46</td>\n",
       "      <td>381.10</td>\n",
       "      <td>36145.0</td>\n",
       "      <td>817.36</td>\n",
       "    </tr>\n",
       "    <tr>\n",
       "      <th>4</th>\n",
       "      <td>5</td>\n",
       "      <td>78</td>\n",
       "      <td>787</td>\n",
       "      <td>2017-10-01</td>\n",
       "      <td>1.0</td>\n",
       "      <td>Approved</td>\n",
       "      <td>Giant Bicycles</td>\n",
       "      <td>Standard</td>\n",
       "      <td>medium</td>\n",
       "      <td>large</td>\n",
       "      <td>1765.30</td>\n",
       "      <td>709.48</td>\n",
       "      <td>42226.0</td>\n",
       "      <td>1055.82</td>\n",
       "    </tr>\n",
       "    <tr>\n",
       "      <th>...</th>\n",
       "      <td>...</td>\n",
       "      <td>...</td>\n",
       "      <td>...</td>\n",
       "      <td>...</td>\n",
       "      <td>...</td>\n",
       "      <td>...</td>\n",
       "      <td>...</td>\n",
       "      <td>...</td>\n",
       "      <td>...</td>\n",
       "      <td>...</td>\n",
       "      <td>...</td>\n",
       "      <td>...</td>\n",
       "      <td>...</td>\n",
       "      <td>...</td>\n",
       "    </tr>\n",
       "    <tr>\n",
       "      <th>19995</th>\n",
       "      <td>19996</td>\n",
       "      <td>51</td>\n",
       "      <td>1018</td>\n",
       "      <td>2017-06-24</td>\n",
       "      <td>1.0</td>\n",
       "      <td>Approved</td>\n",
       "      <td>OHM Cycles</td>\n",
       "      <td>Standard</td>\n",
       "      <td>high</td>\n",
       "      <td>medium</td>\n",
       "      <td>2005.66</td>\n",
       "      <td>1203.40</td>\n",
       "      <td>37823.0</td>\n",
       "      <td>802.26</td>\n",
       "    </tr>\n",
       "    <tr>\n",
       "      <th>19996</th>\n",
       "      <td>19997</td>\n",
       "      <td>41</td>\n",
       "      <td>127</td>\n",
       "      <td>2017-11-09</td>\n",
       "      <td>1.0</td>\n",
       "      <td>Approved</td>\n",
       "      <td>Solex</td>\n",
       "      <td>Road</td>\n",
       "      <td>medium</td>\n",
       "      <td>medium</td>\n",
       "      <td>416.98</td>\n",
       "      <td>312.74</td>\n",
       "      <td>35560.0</td>\n",
       "      <td>104.24</td>\n",
       "    </tr>\n",
       "    <tr>\n",
       "      <th>19997</th>\n",
       "      <td>19998</td>\n",
       "      <td>87</td>\n",
       "      <td>2284</td>\n",
       "      <td>2017-04-14</td>\n",
       "      <td>1.0</td>\n",
       "      <td>Approved</td>\n",
       "      <td>OHM Cycles</td>\n",
       "      <td>Standard</td>\n",
       "      <td>medium</td>\n",
       "      <td>medium</td>\n",
       "      <td>1636.90</td>\n",
       "      <td>44.71</td>\n",
       "      <td>40410.0</td>\n",
       "      <td>1592.19</td>\n",
       "    </tr>\n",
       "    <tr>\n",
       "      <th>19998</th>\n",
       "      <td>19999</td>\n",
       "      <td>6</td>\n",
       "      <td>2764</td>\n",
       "      <td>2017-07-03</td>\n",
       "      <td>0.0</td>\n",
       "      <td>Approved</td>\n",
       "      <td>OHM Cycles</td>\n",
       "      <td>Standard</td>\n",
       "      <td>high</td>\n",
       "      <td>medium</td>\n",
       "      <td>227.88</td>\n",
       "      <td>136.73</td>\n",
       "      <td>38216.0</td>\n",
       "      <td>91.15</td>\n",
       "    </tr>\n",
       "    <tr>\n",
       "      <th>19999</th>\n",
       "      <td>20000</td>\n",
       "      <td>11</td>\n",
       "      <td>1144</td>\n",
       "      <td>2017-09-22</td>\n",
       "      <td>1.0</td>\n",
       "      <td>Approved</td>\n",
       "      <td>Trek Bicycles</td>\n",
       "      <td>Standard</td>\n",
       "      <td>medium</td>\n",
       "      <td>small</td>\n",
       "      <td>1775.81</td>\n",
       "      <td>1580.47</td>\n",
       "      <td>36334.0</td>\n",
       "      <td>195.34</td>\n",
       "    </tr>\n",
       "  </tbody>\n",
       "</table>\n",
       "<p>20000 rows × 14 columns</p>\n",
       "</div>"
      ],
      "text/plain": [
       "       transaction_id  product_id  customer_id transaction_date  online_order  \\\n",
       "0                   1           2         2950       2017-02-25           0.0   \n",
       "1                   2           3         3120       2017-05-21           1.0   \n",
       "2                   3          37          402       2017-10-16           0.0   \n",
       "3                   4          88         3135       2017-08-31           0.0   \n",
       "4                   5          78          787       2017-10-01           1.0   \n",
       "...               ...         ...          ...              ...           ...   \n",
       "19995           19996          51         1018       2017-06-24           1.0   \n",
       "19996           19997          41          127       2017-11-09           1.0   \n",
       "19997           19998          87         2284       2017-04-14           1.0   \n",
       "19998           19999           6         2764       2017-07-03           0.0   \n",
       "19999           20000          11         1144       2017-09-22           1.0   \n",
       "\n",
       "      order_status           brand product_line product_class product_size  \\\n",
       "0         Approved           Solex     Standard        medium       medium   \n",
       "1         Approved   Trek Bicycles     Standard        medium        large   \n",
       "2         Approved      OHM Cycles     Standard           low       medium   \n",
       "3         Approved  Norco Bicycles     Standard        medium       medium   \n",
       "4         Approved  Giant Bicycles     Standard        medium        large   \n",
       "...            ...             ...          ...           ...          ...   \n",
       "19995     Approved      OHM Cycles     Standard          high       medium   \n",
       "19996     Approved           Solex         Road        medium       medium   \n",
       "19997     Approved      OHM Cycles     Standard        medium       medium   \n",
       "19998     Approved      OHM Cycles     Standard          high       medium   \n",
       "19999     Approved   Trek Bicycles     Standard        medium        small   \n",
       "\n",
       "       list_price  standard_cost  product_first_sold_date   profit  \n",
       "0           71.49          53.62                  41245.0    17.87  \n",
       "1         2091.47         388.92                  41701.0  1702.55  \n",
       "2         1793.43         248.82                  36361.0  1544.61  \n",
       "3         1198.46         381.10                  36145.0   817.36  \n",
       "4         1765.30         709.48                  42226.0  1055.82  \n",
       "...           ...            ...                      ...      ...  \n",
       "19995     2005.66        1203.40                  37823.0   802.26  \n",
       "19996      416.98         312.74                  35560.0   104.24  \n",
       "19997     1636.90          44.71                  40410.0  1592.19  \n",
       "19998      227.88         136.73                  38216.0    91.15  \n",
       "19999     1775.81        1580.47                  36334.0   195.34  \n",
       "\n",
       "[20000 rows x 14 columns]"
      ]
     },
     "execution_count": 1423,
     "metadata": {},
     "output_type": "execute_result"
    }
   ],
   "source": [
    "df['profit'] = df.apply(lambda x: x['list_price'] - x['standard_cost'], axis=1)\n",
    "df\n"
   ]
  },
  {
   "cell_type": "code",
   "execution_count": 1424,
   "metadata": {},
   "outputs": [
    {
     "data": {
      "text/plain": [
       "transaction_id                      int64\n",
       "product_id                          int64\n",
       "customer_id                         int64\n",
       "transaction_date           datetime64[ns]\n",
       "online_order                      float64\n",
       "order_status                       object\n",
       "brand                              object\n",
       "product_line                       object\n",
       "product_class                      object\n",
       "product_size                       object\n",
       "list_price                        float64\n",
       "standard_cost                     float64\n",
       "product_first_sold_date           float64\n",
       "profit                            float64\n",
       "dtype: object"
      ]
     },
     "execution_count": 1424,
     "metadata": {},
     "output_type": "execute_result"
    }
   ],
   "source": [
    "df.dtypes"
   ]
  },
  {
   "cell_type": "code",
   "execution_count": 1425,
   "metadata": {},
   "outputs": [],
   "source": [
    "customer_demographic = pd.read_excel(\"CustomerDemographic.xlsx\")\n",
    "import pandas\n",
    "merged_df = df.merge(customer_demographic, on=\"customer_id\", how = 'inner')"
   ]
  },
  {
   "cell_type": "code",
   "execution_count": 1426,
   "metadata": {},
   "outputs": [
    {
     "data": {
      "text/plain": [
       "Female    9993\n",
       "Male      9525\n",
       "U          455\n",
       "F           11\n",
       "Femal        7\n",
       "M            6\n",
       "Name: gender, dtype: int64"
      ]
     },
     "execution_count": 1426,
     "metadata": {},
     "output_type": "execute_result"
    }
   ],
   "source": [
    "merged_df[\"gender\"].value_counts()"
   ]
  },
  {
   "cell_type": "code",
   "execution_count": 1427,
   "metadata": {},
   "outputs": [],
   "source": [
    "def standardizeGender(gen):\n",
    "    if gen[0].lower() == \"f\":\n",
    "        return \"Female\"\n",
    "    elif gen[0].lower() == \"m\":\n",
    "        return \"Male\"\n",
    "    else: \n",
    "        return \"Undefined\""
   ]
  },
  {
   "cell_type": "code",
   "execution_count": 1428,
   "metadata": {},
   "outputs": [],
   "source": [
    "merged_df[\"gender\"] = merged_df[\"gender\"].apply(lambda x: standardizeGender(x))"
   ]
  },
  {
   "cell_type": "code",
   "execution_count": 1429,
   "metadata": {},
   "outputs": [],
   "source": [
    "merged_df.head()\n",
    "merged_df.drop(\"default\", axis = 1, inplace= True)"
   ]
  },
  {
   "cell_type": "code",
   "execution_count": 1430,
   "metadata": {},
   "outputs": [
    {
     "data": {
      "text/plain": [
       "N    19989\n",
       "Y        8\n",
       "Name: deceased_indicator, dtype: int64"
      ]
     },
     "execution_count": 1430,
     "metadata": {},
     "output_type": "execute_result"
    }
   ],
   "source": [
    "merged_df[\"deceased_indicator\"].value_counts()"
   ]
  },
  {
   "cell_type": "code",
   "execution_count": 1431,
   "metadata": {},
   "outputs": [
    {
     "data": {
      "text/html": [
       "<div>\n",
       "<style scoped>\n",
       "    .dataframe tbody tr th:only-of-type {\n",
       "        vertical-align: middle;\n",
       "    }\n",
       "\n",
       "    .dataframe tbody tr th {\n",
       "        vertical-align: top;\n",
       "    }\n",
       "\n",
       "    .dataframe thead th {\n",
       "        text-align: right;\n",
       "    }\n",
       "</style>\n",
       "<table border=\"1\" class=\"dataframe\">\n",
       "  <thead>\n",
       "    <tr style=\"text-align: right;\">\n",
       "      <th></th>\n",
       "      <th>transaction_id</th>\n",
       "      <th>product_id</th>\n",
       "      <th>customer_id</th>\n",
       "      <th>transaction_date</th>\n",
       "      <th>online_order</th>\n",
       "      <th>order_status</th>\n",
       "      <th>brand</th>\n",
       "      <th>product_line</th>\n",
       "      <th>product_class</th>\n",
       "      <th>product_size</th>\n",
       "      <th>...</th>\n",
       "      <th>last_name</th>\n",
       "      <th>gender</th>\n",
       "      <th>past_3_years_bike_related_purchases</th>\n",
       "      <th>DOB</th>\n",
       "      <th>job_title</th>\n",
       "      <th>job_industry_category</th>\n",
       "      <th>wealth_segment</th>\n",
       "      <th>deceased_indicator</th>\n",
       "      <th>owns_car</th>\n",
       "      <th>tenure</th>\n",
       "    </tr>\n",
       "  </thead>\n",
       "  <tbody>\n",
       "    <tr>\n",
       "      <th>0</th>\n",
       "      <td>1</td>\n",
       "      <td>2</td>\n",
       "      <td>2950</td>\n",
       "      <td>2017-02-25</td>\n",
       "      <td>0.0</td>\n",
       "      <td>Approved</td>\n",
       "      <td>Solex</td>\n",
       "      <td>Standard</td>\n",
       "      <td>medium</td>\n",
       "      <td>medium</td>\n",
       "      <td>...</td>\n",
       "      <td>Anthony</td>\n",
       "      <td>Male</td>\n",
       "      <td>19</td>\n",
       "      <td>1955-01-11</td>\n",
       "      <td>Software Engineer I</td>\n",
       "      <td>Financial Services</td>\n",
       "      <td>Mass Customer</td>\n",
       "      <td>0</td>\n",
       "      <td>1</td>\n",
       "      <td>10.0</td>\n",
       "    </tr>\n",
       "    <tr>\n",
       "      <th>1</th>\n",
       "      <td>11065</td>\n",
       "      <td>1</td>\n",
       "      <td>2950</td>\n",
       "      <td>2017-10-16</td>\n",
       "      <td>0.0</td>\n",
       "      <td>Approved</td>\n",
       "      <td>Giant Bicycles</td>\n",
       "      <td>Standard</td>\n",
       "      <td>medium</td>\n",
       "      <td>medium</td>\n",
       "      <td>...</td>\n",
       "      <td>Anthony</td>\n",
       "      <td>Male</td>\n",
       "      <td>19</td>\n",
       "      <td>1955-01-11</td>\n",
       "      <td>Software Engineer I</td>\n",
       "      <td>Financial Services</td>\n",
       "      <td>Mass Customer</td>\n",
       "      <td>0</td>\n",
       "      <td>1</td>\n",
       "      <td>10.0</td>\n",
       "    </tr>\n",
       "    <tr>\n",
       "      <th>2</th>\n",
       "      <td>18923</td>\n",
       "      <td>62</td>\n",
       "      <td>2950</td>\n",
       "      <td>2017-04-26</td>\n",
       "      <td>0.0</td>\n",
       "      <td>Approved</td>\n",
       "      <td>Solex</td>\n",
       "      <td>Standard</td>\n",
       "      <td>medium</td>\n",
       "      <td>medium</td>\n",
       "      <td>...</td>\n",
       "      <td>Anthony</td>\n",
       "      <td>Male</td>\n",
       "      <td>19</td>\n",
       "      <td>1955-01-11</td>\n",
       "      <td>Software Engineer I</td>\n",
       "      <td>Financial Services</td>\n",
       "      <td>Mass Customer</td>\n",
       "      <td>0</td>\n",
       "      <td>1</td>\n",
       "      <td>10.0</td>\n",
       "    </tr>\n",
       "    <tr>\n",
       "      <th>3</th>\n",
       "      <td>2</td>\n",
       "      <td>3</td>\n",
       "      <td>3120</td>\n",
       "      <td>2017-05-21</td>\n",
       "      <td>1.0</td>\n",
       "      <td>Approved</td>\n",
       "      <td>Trek Bicycles</td>\n",
       "      <td>Standard</td>\n",
       "      <td>medium</td>\n",
       "      <td>large</td>\n",
       "      <td>...</td>\n",
       "      <td>O'Donnell</td>\n",
       "      <td>Female</td>\n",
       "      <td>89</td>\n",
       "      <td>1979-02-04</td>\n",
       "      <td>Clinical Specialist</td>\n",
       "      <td>Health</td>\n",
       "      <td>Mass Customer</td>\n",
       "      <td>0</td>\n",
       "      <td>1</td>\n",
       "      <td>10.0</td>\n",
       "    </tr>\n",
       "    <tr>\n",
       "      <th>4</th>\n",
       "      <td>6862</td>\n",
       "      <td>4</td>\n",
       "      <td>3120</td>\n",
       "      <td>2017-10-05</td>\n",
       "      <td>0.0</td>\n",
       "      <td>Approved</td>\n",
       "      <td>Giant Bicycles</td>\n",
       "      <td>Standard</td>\n",
       "      <td>high</td>\n",
       "      <td>medium</td>\n",
       "      <td>...</td>\n",
       "      <td>O'Donnell</td>\n",
       "      <td>Female</td>\n",
       "      <td>89</td>\n",
       "      <td>1979-02-04</td>\n",
       "      <td>Clinical Specialist</td>\n",
       "      <td>Health</td>\n",
       "      <td>Mass Customer</td>\n",
       "      <td>0</td>\n",
       "      <td>1</td>\n",
       "      <td>10.0</td>\n",
       "    </tr>\n",
       "  </tbody>\n",
       "</table>\n",
       "<p>5 rows × 25 columns</p>\n",
       "</div>"
      ],
      "text/plain": [
       "   transaction_id  product_id  customer_id transaction_date  online_order  \\\n",
       "0               1           2         2950       2017-02-25           0.0   \n",
       "1           11065           1         2950       2017-10-16           0.0   \n",
       "2           18923          62         2950       2017-04-26           0.0   \n",
       "3               2           3         3120       2017-05-21           1.0   \n",
       "4            6862           4         3120       2017-10-05           0.0   \n",
       "\n",
       "  order_status           brand product_line product_class product_size  ...  \\\n",
       "0     Approved           Solex     Standard        medium       medium  ...   \n",
       "1     Approved  Giant Bicycles     Standard        medium       medium  ...   \n",
       "2     Approved           Solex     Standard        medium       medium  ...   \n",
       "3     Approved   Trek Bicycles     Standard        medium        large  ...   \n",
       "4     Approved  Giant Bicycles     Standard          high       medium  ...   \n",
       "\n",
       "   last_name  gender  past_3_years_bike_related_purchases        DOB  \\\n",
       "0    Anthony    Male                                   19 1955-01-11   \n",
       "1    Anthony    Male                                   19 1955-01-11   \n",
       "2    Anthony    Male                                   19 1955-01-11   \n",
       "3  O'Donnell  Female                                   89 1979-02-04   \n",
       "4  O'Donnell  Female                                   89 1979-02-04   \n",
       "\n",
       "             job_title job_industry_category wealth_segment  \\\n",
       "0  Software Engineer I    Financial Services  Mass Customer   \n",
       "1  Software Engineer I    Financial Services  Mass Customer   \n",
       "2  Software Engineer I    Financial Services  Mass Customer   \n",
       "3  Clinical Specialist                Health  Mass Customer   \n",
       "4  Clinical Specialist                Health  Mass Customer   \n",
       "\n",
       "   deceased_indicator owns_car tenure  \n",
       "0                   0        1   10.0  \n",
       "1                   0        1   10.0  \n",
       "2                   0        1   10.0  \n",
       "3                   0        1   10.0  \n",
       "4                   0        1   10.0  \n",
       "\n",
       "[5 rows x 25 columns]"
      ]
     },
     "execution_count": 1431,
     "metadata": {},
     "output_type": "execute_result"
    }
   ],
   "source": [
    "def isDeceased(arg):\n",
    "    if arg == \"N\":\n",
    "        return 0\n",
    "    else:\n",
    "        return 1\n",
    "    \n",
    "def ownsCar(arg):\n",
    "    if arg == \"Yes\":\n",
    "        return 1\n",
    "    else:\n",
    "        return 0\n",
    "    \n",
    "    \n",
    "merged_df[\"deceased_indicator\"] = merged_df[\"deceased_indicator\"].apply(lambda x: isDeceased(x))\n",
    "merged_df[\"owns_car\"] = merged_df[\"owns_car\"].apply(lambda x: ownsCar(x))\n",
    "\n",
    "merged_df.head()"
   ]
  },
  {
   "cell_type": "code",
   "execution_count": 1432,
   "metadata": {},
   "outputs": [
    {
     "data": {
      "text/plain": [
       "Female       10011\n",
       "Male          9531\n",
       "Undefined      455\n",
       "Name: gender, dtype: int64"
      ]
     },
     "execution_count": 1432,
     "metadata": {},
     "output_type": "execute_result"
    }
   ],
   "source": [
    "merged_df[\"gender\"].value_counts()"
   ]
  },
  {
   "cell_type": "code",
   "execution_count": 1433,
   "metadata": {},
   "outputs": [
    {
     "data": {
      "text/plain": [
       "Text(0.5, 1.0, 'gender')"
      ]
     },
     "execution_count": 1433,
     "metadata": {},
     "output_type": "execute_result"
    },
    {
     "data": {
      "image/png": "[encoded data removed]",
      "text/plain": [
       "<Figure size 1800x432 with 1 Axes>"
      ]
     },
     "metadata": {
      "needs_background": "light"
     },
     "output_type": "display_data"
    }
   ],
   "source": [
    "sns.countplot(merged_df['gender'], palette = \"plasma\", order = merged_df['gender'].value_counts().index)\n",
    "fig = plt.gcf()\n",
    "fig.set_size_inches(25,6)\n",
    "plt.title('gender')"
   ]
  },
  {
   "cell_type": "code",
   "execution_count": 1434,
   "metadata": {},
   "outputs": [
    {
     "data": {
      "text/html": [
       "<div>\n",
       "<style scoped>\n",
       "    .dataframe tbody tr th:only-of-type {\n",
       "        vertical-align: middle;\n",
       "    }\n",
       "\n",
       "    .dataframe tbody tr th {\n",
       "        vertical-align: top;\n",
       "    }\n",
       "\n",
       "    .dataframe thead th {\n",
       "        text-align: right;\n",
       "    }\n",
       "</style>\n",
       "<table border=\"1\" class=\"dataframe\">\n",
       "  <thead>\n",
       "    <tr style=\"text-align: right;\">\n",
       "      <th></th>\n",
       "      <th>transaction_id</th>\n",
       "      <th>product_id</th>\n",
       "      <th>customer_id</th>\n",
       "      <th>transaction_date</th>\n",
       "      <th>online_order</th>\n",
       "      <th>order_status</th>\n",
       "      <th>brand</th>\n",
       "      <th>product_line</th>\n",
       "      <th>product_class</th>\n",
       "      <th>product_size</th>\n",
       "      <th>...</th>\n",
       "      <th>gender</th>\n",
       "      <th>past_3_years_bike_related_purchases</th>\n",
       "      <th>DOB</th>\n",
       "      <th>job_title</th>\n",
       "      <th>job_industry_category</th>\n",
       "      <th>wealth_segment</th>\n",
       "      <th>deceased_indicator</th>\n",
       "      <th>owns_car</th>\n",
       "      <th>tenure</th>\n",
       "      <th>year</th>\n",
       "    </tr>\n",
       "  </thead>\n",
       "  <tbody>\n",
       "    <tr>\n",
       "      <th>0</th>\n",
       "      <td>1</td>\n",
       "      <td>2</td>\n",
       "      <td>2950</td>\n",
       "      <td>2017-02-25</td>\n",
       "      <td>0.0</td>\n",
       "      <td>Approved</td>\n",
       "      <td>Solex</td>\n",
       "      <td>Standard</td>\n",
       "      <td>medium</td>\n",
       "      <td>medium</td>\n",
       "      <td>...</td>\n",
       "      <td>Male</td>\n",
       "      <td>19</td>\n",
       "      <td>65.0</td>\n",
       "      <td>Software Engineer I</td>\n",
       "      <td>Financial Services</td>\n",
       "      <td>Mass Customer</td>\n",
       "      <td>0</td>\n",
       "      <td>1</td>\n",
       "      <td>10.0</td>\n",
       "      <td>1955.0</td>\n",
       "    </tr>\n",
       "    <tr>\n",
       "      <th>1</th>\n",
       "      <td>11065</td>\n",
       "      <td>1</td>\n",
       "      <td>2950</td>\n",
       "      <td>2017-10-16</td>\n",
       "      <td>0.0</td>\n",
       "      <td>Approved</td>\n",
       "      <td>Giant Bicycles</td>\n",
       "      <td>Standard</td>\n",
       "      <td>medium</td>\n",
       "      <td>medium</td>\n",
       "      <td>...</td>\n",
       "      <td>Male</td>\n",
       "      <td>19</td>\n",
       "      <td>65.0</td>\n",
       "      <td>Software Engineer I</td>\n",
       "      <td>Financial Services</td>\n",
       "      <td>Mass Customer</td>\n",
       "      <td>0</td>\n",
       "      <td>1</td>\n",
       "      <td>10.0</td>\n",
       "      <td>1955.0</td>\n",
       "    </tr>\n",
       "    <tr>\n",
       "      <th>2</th>\n",
       "      <td>18923</td>\n",
       "      <td>62</td>\n",
       "      <td>2950</td>\n",
       "      <td>2017-04-26</td>\n",
       "      <td>0.0</td>\n",
       "      <td>Approved</td>\n",
       "      <td>Solex</td>\n",
       "      <td>Standard</td>\n",
       "      <td>medium</td>\n",
       "      <td>medium</td>\n",
       "      <td>...</td>\n",
       "      <td>Male</td>\n",
       "      <td>19</td>\n",
       "      <td>65.0</td>\n",
       "      <td>Software Engineer I</td>\n",
       "      <td>Financial Services</td>\n",
       "      <td>Mass Customer</td>\n",
       "      <td>0</td>\n",
       "      <td>1</td>\n",
       "      <td>10.0</td>\n",
       "      <td>1955.0</td>\n",
       "    </tr>\n",
       "    <tr>\n",
       "      <th>3</th>\n",
       "      <td>2</td>\n",
       "      <td>3</td>\n",
       "      <td>3120</td>\n",
       "      <td>2017-05-21</td>\n",
       "      <td>1.0</td>\n",
       "      <td>Approved</td>\n",
       "      <td>Trek Bicycles</td>\n",
       "      <td>Standard</td>\n",
       "      <td>medium</td>\n",
       "      <td>large</td>\n",
       "      <td>...</td>\n",
       "      <td>Female</td>\n",
       "      <td>89</td>\n",
       "      <td>41.0</td>\n",
       "      <td>Clinical Specialist</td>\n",
       "      <td>Health</td>\n",
       "      <td>Mass Customer</td>\n",
       "      <td>0</td>\n",
       "      <td>1</td>\n",
       "      <td>10.0</td>\n",
       "      <td>1979.0</td>\n",
       "    </tr>\n",
       "    <tr>\n",
       "      <th>4</th>\n",
       "      <td>6862</td>\n",
       "      <td>4</td>\n",
       "      <td>3120</td>\n",
       "      <td>2017-10-05</td>\n",
       "      <td>0.0</td>\n",
       "      <td>Approved</td>\n",
       "      <td>Giant Bicycles</td>\n",
       "      <td>Standard</td>\n",
       "      <td>high</td>\n",
       "      <td>medium</td>\n",
       "      <td>...</td>\n",
       "      <td>Female</td>\n",
       "      <td>89</td>\n",
       "      <td>41.0</td>\n",
       "      <td>Clinical Specialist</td>\n",
       "      <td>Health</td>\n",
       "      <td>Mass Customer</td>\n",
       "      <td>0</td>\n",
       "      <td>1</td>\n",
       "      <td>10.0</td>\n",
       "      <td>1979.0</td>\n",
       "    </tr>\n",
       "  </tbody>\n",
       "</table>\n",
       "<p>5 rows × 26 columns</p>\n",
       "</div>"
      ],
      "text/plain": [
       "   transaction_id  product_id  customer_id transaction_date  online_order  \\\n",
       "0               1           2         2950       2017-02-25           0.0   \n",
       "1           11065           1         2950       2017-10-16           0.0   \n",
       "2           18923          62         2950       2017-04-26           0.0   \n",
       "3               2           3         3120       2017-05-21           1.0   \n",
       "4            6862           4         3120       2017-10-05           0.0   \n",
       "\n",
       "  order_status           brand product_line product_class product_size  ...  \\\n",
       "0     Approved           Solex     Standard        medium       medium  ...   \n",
       "1     Approved  Giant Bicycles     Standard        medium       medium  ...   \n",
       "2     Approved           Solex     Standard        medium       medium  ...   \n",
       "3     Approved   Trek Bicycles     Standard        medium        large  ...   \n",
       "4     Approved  Giant Bicycles     Standard          high       medium  ...   \n",
       "\n",
       "   gender  past_3_years_bike_related_purchases   DOB            job_title  \\\n",
       "0    Male                                   19  65.0  Software Engineer I   \n",
       "1    Male                                   19  65.0  Software Engineer I   \n",
       "2    Male                                   19  65.0  Software Engineer I   \n",
       "3  Female                                   89  41.0  Clinical Specialist   \n",
       "4  Female                                   89  41.0  Clinical Specialist   \n",
       "\n",
       "  job_industry_category wealth_segment deceased_indicator  owns_car  tenure  \\\n",
       "0    Financial Services  Mass Customer                  0         1    10.0   \n",
       "1    Financial Services  Mass Customer                  0         1    10.0   \n",
       "2    Financial Services  Mass Customer                  0         1    10.0   \n",
       "3                Health  Mass Customer                  0         1    10.0   \n",
       "4                Health  Mass Customer                  0         1    10.0   \n",
       "\n",
       "     year  \n",
       "0  1955.0  \n",
       "1  1955.0  \n",
       "2  1955.0  \n",
       "3  1979.0  \n",
       "4  1979.0  \n",
       "\n",
       "[5 rows x 26 columns]"
      ]
     },
     "execution_count": 1434,
     "metadata": {},
     "output_type": "execute_result"
    }
   ],
   "source": [
    "import datetime\n",
    "\n",
    "merged_df['year'] = merged_df['DOB'].dt.year\n",
    "DOB = merged_df[['DOB','year']].head()\n",
    "#print(df['year'])\n",
    "\n",
    "def age(arg):\n",
    "    return 2020 - arg \n",
    "    \n",
    "  \n",
    "    \n",
    "merged_df['DOB'] = merged_df['year'].apply(lambda x: age(x))\n",
    "merged_df.head()\n"
   ]
  },
  {
   "cell_type": "code",
   "execution_count": 1435,
   "metadata": {},
   "outputs": [
    {
     "name": "stdout",
     "output_type": "stream",
     "text": [
      "The following columns have values NaN\n"
     ]
    },
    {
     "data": {
      "text/plain": [
       "transaction_id                            0\n",
       "product_id                                0\n",
       "customer_id                               0\n",
       "transaction_date                          0\n",
       "online_order                            360\n",
       "order_status                              0\n",
       "brand                                   197\n",
       "product_line                            197\n",
       "product_class                           197\n",
       "product_size                            197\n",
       "list_price                                0\n",
       "standard_cost                             0\n",
       "product_first_sold_date                 197\n",
       "profit                                    0\n",
       "first_name                                0\n",
       "last_name                               642\n",
       "gender                                    0\n",
       "past_3_years_bike_related_purchases       0\n",
       "DOB                                     446\n",
       "job_title                              2394\n",
       "job_industry_category                  3229\n",
       "wealth_segment                            0\n",
       "deceased_indicator                        0\n",
       "owns_car                                  0\n",
       "tenure                                  446\n",
       "year                                    446\n",
       "dtype: int64"
      ]
     },
     "execution_count": 1435,
     "metadata": {},
     "output_type": "execute_result"
    }
   ],
   "source": [
    "print(\"The following columns have values NaN\")\n",
    "merged_df.isnull().sum()\n",
    "#Significant number of Nan values in the "
   ]
  },
  {
   "cell_type": "code",
   "execution_count": 1436,
   "metadata": {},
   "outputs": [
    {
     "name": "stdout",
     "output_type": "stream",
     "text": [
      "1    10063\n",
      "0     9934\n",
      "Name: owns_car, dtype: int64\n"
     ]
    }
   ],
   "source": [
    "print(merged_df.owns_car.value_counts().head(5))"
   ]
  },
  {
   "cell_type": "code",
   "execution_count": 1437,
   "metadata": {},
   "outputs": [
    {
     "data": {
      "text/plain": [
       "Text(0.5, 1.0, 'owns_car')"
      ]
     },
     "execution_count": 1437,
     "metadata": {},
     "output_type": "execute_result"
    },
    {
     "data": {
      "image/png": "[encoded data removed]",
      "text/plain": [
       "<Figure size 1800x432 with 1 Axes>"
      ]
     },
     "metadata": {
      "needs_background": "light"
     },
     "output_type": "display_data"
    }
   ],
   "source": [
    "sns.countplot(merged_df['owns_car'], palette = \"plasma\", order = merged_df['owns_car'].value_counts().index)\n",
    "fig = plt.gcf()\n",
    "fig.set_size_inches(25,6)\n",
    "plt.title('owns_car')"
   ]
  },
  {
   "cell_type": "code",
   "execution_count": 1438,
   "metadata": {},
   "outputs": [
    {
     "name": "stdout",
     "output_type": "stream",
     "text": [
      "Manufacturing         4014\n",
      "Financial Services    3886\n",
      "Health                3099\n",
      "Retail                1758\n",
      "Property              1297\n",
      "Name: job_industry_category, dtype: int64\n"
     ]
    }
   ],
   "source": [
    "print(merged_df.job_industry_category.value_counts().head(5))"
   ]
  },
  {
   "cell_type": "code",
   "execution_count": 1439,
   "metadata": {},
   "outputs": [
    {
     "data": {
      "text/plain": [
       "Text(0.5, 1.0, 'job_industry_category')"
      ]
     },
     "execution_count": 1439,
     "metadata": {},
     "output_type": "execute_result"
    },
    {
     "data": {
      "image/png": "[encoded data removed]",
      "text/plain": [
       "<Figure size 1800x432 with 1 Axes>"
      ]
     },
     "metadata": {
      "needs_background": "light"
     },
     "output_type": "display_data"
    }
   ],
   "source": [
    "sns.countplot(merged_df['job_industry_category'], palette = \"plasma\", order = merged_df['job_industry_category'].value_counts().index)\n",
    "fig = plt.gcf()\n",
    "fig.set_size_inches(25,6)\n",
    "plt.title('job_industry_category')"
   ]
  },
  {
   "cell_type": "code",
   "execution_count": 1440,
   "metadata": {},
   "outputs": [
    {
     "data": {
      "text/plain": [
       "<matplotlib.axes._subplots.AxesSubplot at 0x7f2b3c4d4198>"
      ]
     },
     "execution_count": 1440,
     "metadata": {},
     "output_type": "execute_result"
    },
    {
     "data": {
      "image/png": "[encoded data removed]",
      "text/plain": [
       "<Figure size 288x288 with 1 Axes>"
      ]
     },
     "metadata": {},
     "output_type": "display_data"
    }
   ],
   "source": [
    "a = merged_df['DOB'].value_counts().head(5)\n",
    "a.plot.pie(figsize = (4,4), autopct = '%.1f%%')\n",
    "##age group banau"
   ]
  },
  {
   "cell_type": "code",
   "execution_count": 1441,
   "metadata": {},
   "outputs": [
    {
     "data": {
      "image/png": "[encoded data removed]",
      "text/plain": [
       "<Figure size 1080x432 with 1 Axes>"
      ]
     },
     "metadata": {
      "needs_background": "light"
     },
     "output_type": "display_data"
    }
   ],
   "source": [
    "age18_25 = merged_df.DOB[(merged_df.DOB <= 25) & (merged_df.DOB >= 18)]\n",
    "age26_35 = merged_df.DOB[(merged_df.DOB <= 35) & (merged_df.DOB >= 26)]\n",
    "age36_45 = merged_df.DOB[(merged_df.DOB<= 45) & (merged_df.DOB >= 36)]\n",
    "age46_55 = merged_df.DOB[(merged_df.DOB <= 55) & (merged_df.DOB >= 46)]\n",
    "age55above = merged_df.DOB[merged_df.DOB >= 56]\n",
    "\n",
    "x = [\"18-25\",\"26-35\",\"36-45\",\"46-55\",\"55+\"]\n",
    "y = [len(age18_25.values),len(age26_35.values),len(age36_45.values),len(age46_55.values),len(age55above.values)]\n",
    "\n",
    "plt.figure(figsize=(15,6))\n",
    "sns.barplot(x=x, y=y, palette=\"rocket\")\n",
    "plt.title(\"Number of Customer and Ages\")\n",
    "plt.xlabel(\"Age\")\n",
    "plt.ylabel(\"Number of Customer\")\n",
    "plt.show()"
   ]
  },
  {
   "cell_type": "code",
   "execution_count": 1442,
   "metadata": {},
   "outputs": [
    {
     "data": {
      "text/plain": [
       "transaction_id                                  int64\n",
       "product_id                                      int64\n",
       "customer_id                                     int64\n",
       "transaction_date                       datetime64[ns]\n",
       "online_order                                  float64\n",
       "order_status                                   object\n",
       "brand                                          object\n",
       "product_line                                   object\n",
       "product_class                                  object\n",
       "product_size                                   object\n",
       "list_price                                    float64\n",
       "standard_cost                                 float64\n",
       "product_first_sold_date                       float64\n",
       "profit                                        float64\n",
       "first_name                                     object\n",
       "last_name                                      object\n",
       "gender                                         object\n",
       "past_3_years_bike_related_purchases             int64\n",
       "DOB                                           float64\n",
       "job_title                                      object\n",
       "job_industry_category                          object\n",
       "wealth_segment                                 object\n",
       "deceased_indicator                              int64\n",
       "owns_car                                        int64\n",
       "tenure                                        float64\n",
       "year                                          float64\n",
       "dtype: object"
      ]
     },
     "execution_count": 1442,
     "metadata": {},
     "output_type": "execute_result"
    }
   ],
   "source": [
    "merged_df.dtypes"
   ]
  },
  {
   "cell_type": "code",
   "execution_count": 1443,
   "metadata": {},
   "outputs": [
    {
     "name": "stdout",
     "output_type": "stream",
     "text": [
      "transaction_id                                  int64\n",
      "product_id                                      int64\n",
      "customer_id                                     int64\n",
      "transaction_date                       datetime64[ns]\n",
      "online_order                                  float64\n",
      "order_status                                   object\n",
      "brand                                          object\n",
      "product_line                                   object\n",
      "product_class                                  object\n",
      "product_size                                   object\n",
      "list_price                                    float64\n",
      "standard_cost                                 float64\n",
      "product_first_sold_date                       float64\n",
      "profit                                        float64\n",
      "first_name                                     object\n",
      "last_name                                      object\n",
      "gender                                         object\n",
      "past_3_years_bike_related_purchases             int64\n",
      "DOB                                           float64\n",
      "job_title                                      object\n",
      "job_industry_category                          object\n",
      "wealth_segment                                 object\n",
      "deceased_indicator                              int64\n",
      "owns_car                                        int64\n",
      "tenure                                        float64\n",
      "year                                          float64\n",
      "dtype: object\n"
     ]
    },
    {
     "data": {
      "text/plain": [
       "transaction_id                                  int64\n",
       "product_id                                      int64\n",
       "customer_id                                     int64\n",
       "transaction_date                       datetime64[ns]\n",
       "online_order                                  float64\n",
       "order_status                                   object\n",
       "brand                                          object\n",
       "product_line                                   object\n",
       "product_class                                  object\n",
       "product_size                                   object\n",
       "list_price                                    float64\n",
       "standard_cost                                 float64\n",
       "product_first_sold_date                       float64\n",
       "profit                                          int64\n",
       "first_name                                     object\n",
       "last_name                                      object\n",
       "gender                                         object\n",
       "past_3_years_bike_related_purchases             int64\n",
       "DOB                                           float64\n",
       "job_title                                      object\n",
       "job_industry_category                          object\n",
       "wealth_segment                                 object\n",
       "deceased_indicator                              int64\n",
       "owns_car                                        int64\n",
       "tenure                                        float64\n",
       "year                                          float64\n",
       "dtype: object"
      ]
     },
     "execution_count": 1443,
     "metadata": {},
     "output_type": "execute_result"
    }
   ],
   "source": [
    "print(merged_df.dtypes)\n",
    "\n",
    "def maxProfit(x):\n",
    "    if x > 400:\n",
    "        return 1\n",
    "    else:\n",
    "        return 0\n",
    "\n",
    "merged_df['profit'] = merged_df['profit'].apply(lambda x: maxProfit(x))\n",
    "#print(merged_df.head())\n",
    "#print(merged_df['profit'].value_counts().head(5))\n",
    "merged_df.dtypes\n"
   ]
  },
  {
   "cell_type": "code",
   "execution_count": 1444,
   "metadata": {},
   "outputs": [
    {
     "data": {
      "text/html": [
       "<div>\n",
       "<style scoped>\n",
       "    .dataframe tbody tr th:only-of-type {\n",
       "        vertical-align: middle;\n",
       "    }\n",
       "\n",
       "    .dataframe tbody tr th {\n",
       "        vertical-align: top;\n",
       "    }\n",
       "\n",
       "    .dataframe thead th {\n",
       "        text-align: right;\n",
       "    }\n",
       "</style>\n",
       "<table border=\"1\" class=\"dataframe\">\n",
       "  <thead>\n",
       "    <tr style=\"text-align: right;\">\n",
       "      <th></th>\n",
       "      <th>transaction_id</th>\n",
       "      <th>product_id</th>\n",
       "      <th>customer_id</th>\n",
       "      <th>transaction_date</th>\n",
       "      <th>online_order</th>\n",
       "      <th>order_status</th>\n",
       "      <th>brand</th>\n",
       "      <th>product_line</th>\n",
       "      <th>product_class</th>\n",
       "      <th>product_size</th>\n",
       "      <th>...</th>\n",
       "      <th>gender</th>\n",
       "      <th>past_3_years_bike_related_purchases</th>\n",
       "      <th>DOB</th>\n",
       "      <th>job_title</th>\n",
       "      <th>job_industry_category</th>\n",
       "      <th>wealth_segment</th>\n",
       "      <th>deceased_indicator</th>\n",
       "      <th>owns_car</th>\n",
       "      <th>tenure</th>\n",
       "      <th>year</th>\n",
       "    </tr>\n",
       "  </thead>\n",
       "  <tbody>\n",
       "    <tr>\n",
       "      <th>0</th>\n",
       "      <td>1</td>\n",
       "      <td>2</td>\n",
       "      <td>2950</td>\n",
       "      <td>2017-02-25</td>\n",
       "      <td>0.0</td>\n",
       "      <td>Approved</td>\n",
       "      <td>Solex</td>\n",
       "      <td>Standard</td>\n",
       "      <td>medium</td>\n",
       "      <td>medium</td>\n",
       "      <td>...</td>\n",
       "      <td>Male</td>\n",
       "      <td>19</td>\n",
       "      <td>65.0</td>\n",
       "      <td>Software Engineer I</td>\n",
       "      <td>Financial Services</td>\n",
       "      <td>Mass Customer</td>\n",
       "      <td>0</td>\n",
       "      <td>1</td>\n",
       "      <td>10.0</td>\n",
       "      <td>1955.0</td>\n",
       "    </tr>\n",
       "    <tr>\n",
       "      <th>1</th>\n",
       "      <td>11065</td>\n",
       "      <td>1</td>\n",
       "      <td>2950</td>\n",
       "      <td>2017-10-16</td>\n",
       "      <td>0.0</td>\n",
       "      <td>Approved</td>\n",
       "      <td>Giant Bicycles</td>\n",
       "      <td>Standard</td>\n",
       "      <td>medium</td>\n",
       "      <td>medium</td>\n",
       "      <td>...</td>\n",
       "      <td>Male</td>\n",
       "      <td>19</td>\n",
       "      <td>65.0</td>\n",
       "      <td>Software Engineer I</td>\n",
       "      <td>Financial Services</td>\n",
       "      <td>Mass Customer</td>\n",
       "      <td>0</td>\n",
       "      <td>1</td>\n",
       "      <td>10.0</td>\n",
       "      <td>1955.0</td>\n",
       "    </tr>\n",
       "    <tr>\n",
       "      <th>2</th>\n",
       "      <td>18923</td>\n",
       "      <td>62</td>\n",
       "      <td>2950</td>\n",
       "      <td>2017-04-26</td>\n",
       "      <td>0.0</td>\n",
       "      <td>Approved</td>\n",
       "      <td>Solex</td>\n",
       "      <td>Standard</td>\n",
       "      <td>medium</td>\n",
       "      <td>medium</td>\n",
       "      <td>...</td>\n",
       "      <td>Male</td>\n",
       "      <td>19</td>\n",
       "      <td>65.0</td>\n",
       "      <td>Software Engineer I</td>\n",
       "      <td>Financial Services</td>\n",
       "      <td>Mass Customer</td>\n",
       "      <td>0</td>\n",
       "      <td>1</td>\n",
       "      <td>10.0</td>\n",
       "      <td>1955.0</td>\n",
       "    </tr>\n",
       "    <tr>\n",
       "      <th>3</th>\n",
       "      <td>2</td>\n",
       "      <td>3</td>\n",
       "      <td>3120</td>\n",
       "      <td>2017-05-21</td>\n",
       "      <td>1.0</td>\n",
       "      <td>Approved</td>\n",
       "      <td>Trek Bicycles</td>\n",
       "      <td>Standard</td>\n",
       "      <td>medium</td>\n",
       "      <td>large</td>\n",
       "      <td>...</td>\n",
       "      <td>Female</td>\n",
       "      <td>89</td>\n",
       "      <td>41.0</td>\n",
       "      <td>Clinical Specialist</td>\n",
       "      <td>Health</td>\n",
       "      <td>Mass Customer</td>\n",
       "      <td>0</td>\n",
       "      <td>1</td>\n",
       "      <td>10.0</td>\n",
       "      <td>1979.0</td>\n",
       "    </tr>\n",
       "    <tr>\n",
       "      <th>4</th>\n",
       "      <td>6862</td>\n",
       "      <td>4</td>\n",
       "      <td>3120</td>\n",
       "      <td>2017-10-05</td>\n",
       "      <td>0.0</td>\n",
       "      <td>Approved</td>\n",
       "      <td>Giant Bicycles</td>\n",
       "      <td>Standard</td>\n",
       "      <td>high</td>\n",
       "      <td>medium</td>\n",
       "      <td>...</td>\n",
       "      <td>Female</td>\n",
       "      <td>89</td>\n",
       "      <td>41.0</td>\n",
       "      <td>Clinical Specialist</td>\n",
       "      <td>Health</td>\n",
       "      <td>Mass Customer</td>\n",
       "      <td>0</td>\n",
       "      <td>1</td>\n",
       "      <td>10.0</td>\n",
       "      <td>1979.0</td>\n",
       "    </tr>\n",
       "  </tbody>\n",
       "</table>\n",
       "<p>5 rows × 26 columns</p>\n",
       "</div>"
      ],
      "text/plain": [
       "   transaction_id  product_id  customer_id transaction_date  online_order  \\\n",
       "0               1           2         2950       2017-02-25           0.0   \n",
       "1           11065           1         2950       2017-10-16           0.0   \n",
       "2           18923          62         2950       2017-04-26           0.0   \n",
       "3               2           3         3120       2017-05-21           1.0   \n",
       "4            6862           4         3120       2017-10-05           0.0   \n",
       "\n",
       "  order_status           brand product_line product_class product_size  ...  \\\n",
       "0     Approved           Solex     Standard        medium       medium  ...   \n",
       "1     Approved  Giant Bicycles     Standard        medium       medium  ...   \n",
       "2     Approved           Solex     Standard        medium       medium  ...   \n",
       "3     Approved   Trek Bicycles     Standard        medium        large  ...   \n",
       "4     Approved  Giant Bicycles     Standard          high       medium  ...   \n",
       "\n",
       "   gender  past_3_years_bike_related_purchases   DOB            job_title  \\\n",
       "0    Male                                   19  65.0  Software Engineer I   \n",
       "1    Male                                   19  65.0  Software Engineer I   \n",
       "2    Male                                   19  65.0  Software Engineer I   \n",
       "3  Female                                   89  41.0  Clinical Specialist   \n",
       "4  Female                                   89  41.0  Clinical Specialist   \n",
       "\n",
       "  job_industry_category wealth_segment deceased_indicator  owns_car  tenure  \\\n",
       "0    Financial Services  Mass Customer                  0         1    10.0   \n",
       "1    Financial Services  Mass Customer                  0         1    10.0   \n",
       "2    Financial Services  Mass Customer                  0         1    10.0   \n",
       "3                Health  Mass Customer                  0         1    10.0   \n",
       "4                Health  Mass Customer                  0         1    10.0   \n",
       "\n",
       "     year  \n",
       "0  1955.0  \n",
       "1  1955.0  \n",
       "2  1955.0  \n",
       "3  1979.0  \n",
       "4  1979.0  \n",
       "\n",
       "[5 rows x 26 columns]"
      ]
     },
     "execution_count": 1444,
     "metadata": {},
     "output_type": "execute_result"
    }
   ],
   "source": [
    "merged_df.head()"
   ]
  },
  {
   "cell_type": "code",
   "execution_count": 1446,
   "metadata": {},
   "outputs": [
    {
     "data": {
      "text/plain": [
       "<seaborn.axisgrid.FacetGrid at 0x7f2b3bf91b38>"
      ]
     },
     "execution_count": 1446,
     "metadata": {},
     "output_type": "execute_result"
    },
    {
     "data": {
      "image/png": "[encoded data removed]",
      "text/plain": [
       "<Figure size 490.825x288 with 2 Axes>"
      ]
     },
     "metadata": {
      "needs_background": "light"
     },
     "output_type": "display_data"
    }
   ],
   "source": [
    "g = sns.catplot(x=\"job_industry_category\", hue=\"gender\", col=\"profit\",\n",
    "                data=merged_df, kind=\"count\",\n",
    "                height=4, aspect=.7, order = merged_df.job_industry_category.value_counts().index)\n",
    "g.set_xticklabels(rotation = 90)"
   ]
  },
  {
   "cell_type": "code",
   "execution_count": 1447,
   "metadata": {},
   "outputs": [
    {
     "data": {
      "text/plain": [
       "<matplotlib.legend.Legend at 0x7f2b3c37ebe0>"
      ]
     },
     "execution_count": 1447,
     "metadata": {},
     "output_type": "execute_result"
    },
    {
     "data": {
      "image/png": "[encoded data removed]",
      "text/plain": [
       "<Figure size 1080x432 with 1 Axes>"
      ]
     },
     "metadata": {
      "needs_background": "light"
     },
     "output_type": "display_data"
    }
   ],
   "source": [
    "plt.figure(figsize=(15,6))\n",
    "sns.countplot(x= merged_df.job_industry_category,hue=merged_df.profit, palette='GnBu_d')\n",
    "plt.title('Type of product line', fontsize=15)\n",
    "plt.xlabel('Job Industry')\n",
    "plt.ylabel(\"Profit\")\n",
    "plt.legend(frameon=False, fontsize=12)\n",
    "#plt.set_xticklabels(rotation = 90)"
   ]
  },
  {
   "cell_type": "code",
   "execution_count": 1448,
   "metadata": {},
   "outputs": [
    {
     "data": {
      "text/plain": [
       "job_industry_category    3229\n",
       "job_title                2394\n",
       "last_name                 642\n",
       "year                      446\n",
       "tenure                    446\n",
       "dtype: int64"
      ]
     },
     "execution_count": 1448,
     "metadata": {},
     "output_type": "execute_result"
    }
   ],
   "source": [
    "merged_df.isnull().sum().sort_values(ascending = False).head()"
   ]
  },
  {
   "cell_type": "code",
   "execution_count": 1449,
   "metadata": {},
   "outputs": [
    {
     "data": {
      "text/html": [
       "<div>\n",
       "<style scoped>\n",
       "    .dataframe tbody tr th:only-of-type {\n",
       "        vertical-align: middle;\n",
       "    }\n",
       "\n",
       "    .dataframe tbody tr th {\n",
       "        vertical-align: top;\n",
       "    }\n",
       "\n",
       "    .dataframe thead th {\n",
       "        text-align: right;\n",
       "    }\n",
       "</style>\n",
       "<table border=\"1\" class=\"dataframe\">\n",
       "  <thead>\n",
       "    <tr style=\"text-align: right;\">\n",
       "      <th></th>\n",
       "      <th>transaction_id</th>\n",
       "      <th>product_id</th>\n",
       "      <th>customer_id</th>\n",
       "      <th>transaction_date</th>\n",
       "      <th>online_order</th>\n",
       "      <th>order_status</th>\n",
       "      <th>brand</th>\n",
       "      <th>product_line</th>\n",
       "      <th>product_class</th>\n",
       "      <th>product_size</th>\n",
       "      <th>...</th>\n",
       "      <th>gender</th>\n",
       "      <th>past_3_years_bike_related_purchases</th>\n",
       "      <th>DOB</th>\n",
       "      <th>job_title</th>\n",
       "      <th>job_industry_category</th>\n",
       "      <th>wealth_segment</th>\n",
       "      <th>deceased_indicator</th>\n",
       "      <th>owns_car</th>\n",
       "      <th>tenure</th>\n",
       "      <th>year</th>\n",
       "    </tr>\n",
       "  </thead>\n",
       "  <tbody>\n",
       "    <tr>\n",
       "      <th>0</th>\n",
       "      <td>1</td>\n",
       "      <td>2</td>\n",
       "      <td>2950</td>\n",
       "      <td>2017-02-25</td>\n",
       "      <td>0.0</td>\n",
       "      <td>Approved</td>\n",
       "      <td>Solex</td>\n",
       "      <td>Standard</td>\n",
       "      <td>medium</td>\n",
       "      <td>medium</td>\n",
       "      <td>...</td>\n",
       "      <td>Male</td>\n",
       "      <td>19</td>\n",
       "      <td>65.0</td>\n",
       "      <td>Software Engineer I</td>\n",
       "      <td>Financial Services</td>\n",
       "      <td>Mass Customer</td>\n",
       "      <td>0</td>\n",
       "      <td>1</td>\n",
       "      <td>10.0</td>\n",
       "      <td>1955.0</td>\n",
       "    </tr>\n",
       "    <tr>\n",
       "      <th>1</th>\n",
       "      <td>11065</td>\n",
       "      <td>1</td>\n",
       "      <td>2950</td>\n",
       "      <td>2017-10-16</td>\n",
       "      <td>0.0</td>\n",
       "      <td>Approved</td>\n",
       "      <td>Giant Bicycles</td>\n",
       "      <td>Standard</td>\n",
       "      <td>medium</td>\n",
       "      <td>medium</td>\n",
       "      <td>...</td>\n",
       "      <td>Male</td>\n",
       "      <td>19</td>\n",
       "      <td>65.0</td>\n",
       "      <td>Software Engineer I</td>\n",
       "      <td>Financial Services</td>\n",
       "      <td>Mass Customer</td>\n",
       "      <td>0</td>\n",
       "      <td>1</td>\n",
       "      <td>10.0</td>\n",
       "      <td>1955.0</td>\n",
       "    </tr>\n",
       "  </tbody>\n",
       "</table>\n",
       "<p>2 rows × 26 columns</p>\n",
       "</div>"
      ],
      "text/plain": [
       "   transaction_id  product_id  customer_id transaction_date  online_order  \\\n",
       "0               1           2         2950       2017-02-25           0.0   \n",
       "1           11065           1         2950       2017-10-16           0.0   \n",
       "\n",
       "  order_status           brand product_line product_class product_size  ...  \\\n",
       "0     Approved           Solex     Standard        medium       medium  ...   \n",
       "1     Approved  Giant Bicycles     Standard        medium       medium  ...   \n",
       "\n",
       "   gender  past_3_years_bike_related_purchases   DOB            job_title  \\\n",
       "0    Male                                   19  65.0  Software Engineer I   \n",
       "1    Male                                   19  65.0  Software Engineer I   \n",
       "\n",
       "  job_industry_category wealth_segment deceased_indicator  owns_car  tenure  \\\n",
       "0    Financial Services  Mass Customer                  0         1    10.0   \n",
       "1    Financial Services  Mass Customer                  0         1    10.0   \n",
       "\n",
       "     year  \n",
       "0  1955.0  \n",
       "1  1955.0  \n",
       "\n",
       "[2 rows x 26 columns]"
      ]
     },
     "execution_count": 1449,
     "metadata": {},
     "output_type": "execute_result"
    }
   ],
   "source": [
    "merged_df.head(2)"
   ]
  },
  {
   "cell_type": "code",
   "execution_count": 1450,
   "metadata": {},
   "outputs": [
    {
     "name": "stdout",
     "output_type": "stream",
     "text": [
      "<class 'pandas.core.frame.DataFrame'>\n",
      "Int64Index: 19997 entries, 0 to 19996\n",
      "Data columns (total 26 columns):\n",
      " #   Column                               Non-Null Count  Dtype         \n",
      "---  ------                               --------------  -----         \n",
      " 0   transaction_id                       19997 non-null  int64         \n",
      " 1   product_id                           19997 non-null  int64         \n",
      " 2   customer_id                          19997 non-null  int64         \n",
      " 3   transaction_date                     19997 non-null  datetime64[ns]\n",
      " 4   online_order                         19637 non-null  float64       \n",
      " 5   order_status                         19997 non-null  object        \n",
      " 6   brand                                19800 non-null  object        \n",
      " 7   product_line                         19800 non-null  object        \n",
      " 8   product_class                        19800 non-null  object        \n",
      " 9   product_size                         19800 non-null  object        \n",
      " 10  list_price                           19997 non-null  float64       \n",
      " 11  standard_cost                        19997 non-null  float64       \n",
      " 12  product_first_sold_date              19800 non-null  float64       \n",
      " 13  profit                               19997 non-null  int64         \n",
      " 14  first_name                           19997 non-null  object        \n",
      " 15  last_name                            19355 non-null  object        \n",
      " 16  gender                               19997 non-null  object        \n",
      " 17  past_3_years_bike_related_purchases  19997 non-null  int64         \n",
      " 18  DOB                                  19551 non-null  float64       \n",
      " 19  job_title                            17603 non-null  object        \n",
      " 20  job_industry_category                16768 non-null  object        \n",
      " 21  wealth_segment                       19997 non-null  object        \n",
      " 22  deceased_indicator                   19997 non-null  int64         \n",
      " 23  owns_car                             19997 non-null  int64         \n",
      " 24  tenure                               19551 non-null  float64       \n",
      " 25  year                                 19551 non-null  float64       \n",
      "dtypes: datetime64[ns](1), float64(7), int64(7), object(11)\n",
      "memory usage: 4.7+ MB\n"
     ]
    }
   ],
   "source": [
    "merged_df.info()"
   ]
  },
  {
   "cell_type": "code",
   "execution_count": 1451,
   "metadata": {},
   "outputs": [
    {
     "name": "stdout",
     "output_type": "stream",
     "text": [
      "order_status has 2 unique vals. \n",
      "brand has 7 unique vals. \n",
      "product_line has 5 unique vals. \n",
      "product_class has 4 unique vals. \n",
      "product_size has 4 unique vals. \n",
      "first_name has 2839 unique vals. \n",
      "last_name has 3268 unique vals. \n",
      "gender has 3 unique vals. \n",
      "job_title has 196 unique vals. \n",
      "job_industry_category has 10 unique vals. \n",
      "wealth_segment has 3 unique vals. \n"
     ]
    }
   ],
   "source": [
    "#finding the number of unique values of object type\n",
    "for col_name in merged_df.columns:\n",
    "    if merged_df[col_name].dtypes =='object':\n",
    "        a = merged_df[col_name].unique()\n",
    "        a = len(a)\n",
    "        print(col_name + \" has \" + str(a) + \" unique vals. \")"
   ]
  },
  {
   "cell_type": "code",
   "execution_count": 1452,
   "metadata": {},
   "outputs": [
    {
     "data": {
      "text/html": [
       "<div>\n",
       "<style scoped>\n",
       "    .dataframe tbody tr th:only-of-type {\n",
       "        vertical-align: middle;\n",
       "    }\n",
       "\n",
       "    .dataframe tbody tr th {\n",
       "        vertical-align: top;\n",
       "    }\n",
       "\n",
       "    .dataframe thead th {\n",
       "        text-align: right;\n",
       "    }\n",
       "</style>\n",
       "<table border=\"1\" class=\"dataframe\">\n",
       "  <thead>\n",
       "    <tr style=\"text-align: right;\">\n",
       "      <th></th>\n",
       "      <th>online_order</th>\n",
       "      <th>brand</th>\n",
       "      <th>product_line</th>\n",
       "      <th>product_class</th>\n",
       "      <th>product_size</th>\n",
       "      <th>list_price</th>\n",
       "      <th>standard_cost</th>\n",
       "      <th>profit</th>\n",
       "      <th>gender</th>\n",
       "      <th>past_3_years_bike_related_purchases</th>\n",
       "      <th>DOB</th>\n",
       "      <th>job_industry_category</th>\n",
       "      <th>wealth_segment</th>\n",
       "      <th>deceased_indicator</th>\n",
       "      <th>owns_car</th>\n",
       "      <th>tenure</th>\n",
       "    </tr>\n",
       "  </thead>\n",
       "  <tbody>\n",
       "    <tr>\n",
       "      <th>0</th>\n",
       "      <td>0.0</td>\n",
       "      <td>Solex</td>\n",
       "      <td>Standard</td>\n",
       "      <td>medium</td>\n",
       "      <td>medium</td>\n",
       "      <td>71.49</td>\n",
       "      <td>53.62</td>\n",
       "      <td>0</td>\n",
       "      <td>Male</td>\n",
       "      <td>19</td>\n",
       "      <td>65.0</td>\n",
       "      <td>Financial Services</td>\n",
       "      <td>Mass Customer</td>\n",
       "      <td>0</td>\n",
       "      <td>1</td>\n",
       "      <td>10.0</td>\n",
       "    </tr>\n",
       "    <tr>\n",
       "      <th>1</th>\n",
       "      <td>0.0</td>\n",
       "      <td>Giant Bicycles</td>\n",
       "      <td>Standard</td>\n",
       "      <td>medium</td>\n",
       "      <td>medium</td>\n",
       "      <td>1403.50</td>\n",
       "      <td>954.82</td>\n",
       "      <td>1</td>\n",
       "      <td>Male</td>\n",
       "      <td>19</td>\n",
       "      <td>65.0</td>\n",
       "      <td>Financial Services</td>\n",
       "      <td>Mass Customer</td>\n",
       "      <td>0</td>\n",
       "      <td>1</td>\n",
       "      <td>10.0</td>\n",
       "    </tr>\n",
       "    <tr>\n",
       "      <th>2</th>\n",
       "      <td>0.0</td>\n",
       "      <td>Solex</td>\n",
       "      <td>Standard</td>\n",
       "      <td>medium</td>\n",
       "      <td>medium</td>\n",
       "      <td>478.16</td>\n",
       "      <td>298.72</td>\n",
       "      <td>0</td>\n",
       "      <td>Male</td>\n",
       "      <td>19</td>\n",
       "      <td>65.0</td>\n",
       "      <td>Financial Services</td>\n",
       "      <td>Mass Customer</td>\n",
       "      <td>0</td>\n",
       "      <td>1</td>\n",
       "      <td>10.0</td>\n",
       "    </tr>\n",
       "    <tr>\n",
       "      <th>3</th>\n",
       "      <td>1.0</td>\n",
       "      <td>Trek Bicycles</td>\n",
       "      <td>Standard</td>\n",
       "      <td>medium</td>\n",
       "      <td>large</td>\n",
       "      <td>2091.47</td>\n",
       "      <td>388.92</td>\n",
       "      <td>1</td>\n",
       "      <td>Female</td>\n",
       "      <td>89</td>\n",
       "      <td>41.0</td>\n",
       "      <td>Health</td>\n",
       "      <td>Mass Customer</td>\n",
       "      <td>0</td>\n",
       "      <td>1</td>\n",
       "      <td>10.0</td>\n",
       "    </tr>\n",
       "    <tr>\n",
       "      <th>4</th>\n",
       "      <td>0.0</td>\n",
       "      <td>Giant Bicycles</td>\n",
       "      <td>Standard</td>\n",
       "      <td>high</td>\n",
       "      <td>medium</td>\n",
       "      <td>1129.13</td>\n",
       "      <td>677.48</td>\n",
       "      <td>1</td>\n",
       "      <td>Female</td>\n",
       "      <td>89</td>\n",
       "      <td>41.0</td>\n",
       "      <td>Health</td>\n",
       "      <td>Mass Customer</td>\n",
       "      <td>0</td>\n",
       "      <td>1</td>\n",
       "      <td>10.0</td>\n",
       "    </tr>\n",
       "  </tbody>\n",
       "</table>\n",
       "</div>"
      ],
      "text/plain": [
       "   online_order           brand product_line product_class product_size  \\\n",
       "0           0.0           Solex     Standard        medium       medium   \n",
       "1           0.0  Giant Bicycles     Standard        medium       medium   \n",
       "2           0.0           Solex     Standard        medium       medium   \n",
       "3           1.0   Trek Bicycles     Standard        medium        large   \n",
       "4           0.0  Giant Bicycles     Standard          high       medium   \n",
       "\n",
       "   list_price  standard_cost  profit  gender  \\\n",
       "0       71.49          53.62       0    Male   \n",
       "1     1403.50         954.82       1    Male   \n",
       "2      478.16         298.72       0    Male   \n",
       "3     2091.47         388.92       1  Female   \n",
       "4     1129.13         677.48       1  Female   \n",
       "\n",
       "   past_3_years_bike_related_purchases   DOB job_industry_category  \\\n",
       "0                                   19  65.0    Financial Services   \n",
       "1                                   19  65.0    Financial Services   \n",
       "2                                   19  65.0    Financial Services   \n",
       "3                                   89  41.0                Health   \n",
       "4                                   89  41.0                Health   \n",
       "\n",
       "  wealth_segment  deceased_indicator  owns_car  tenure  \n",
       "0  Mass Customer                   0         1    10.0  \n",
       "1  Mass Customer                   0         1    10.0  \n",
       "2  Mass Customer                   0         1    10.0  \n",
       "3  Mass Customer                   0         1    10.0  \n",
       "4  Mass Customer                   0         1    10.0  "
      ]
     },
     "execution_count": 1452,
     "metadata": {},
     "output_type": "execute_result"
    }
   ],
   "source": [
    "merged_df.drop(['product_id', 'customer_id','first_name', 'last_name', 'transaction_id', 'transaction_date','year', 'order_status', 'job_title', 'product_first_sold_date'], axis = 1, inplace = True)\n",
    "merged_df.head()"
   ]
  },
  {
   "cell_type": "code",
   "execution_count": 1453,
   "metadata": {},
   "outputs": [
    {
     "name": "stdout",
     "output_type": "stream",
     "text": [
      "brand has 7 unique vals. \n",
      "product_line has 5 unique vals. \n",
      "product_class has 4 unique vals. \n",
      "product_size has 4 unique vals. \n",
      "gender has 3 unique vals. \n",
      "job_industry_category has 10 unique vals. \n",
      "wealth_segment has 3 unique vals. \n"
     ]
    }
   ],
   "source": [
    "#finding the number of unique values of object type\n",
    "for col_name in merged_df.columns:\n",
    "    if merged_df[col_name].dtypes =='object':\n",
    "        a = merged_df[col_name].unique()\n",
    "        a = len(a)\n",
    "        print(col_name + \" has \" + str(a) + \" unique vals. \")"
   ]
  },
  {
   "cell_type": "code",
   "execution_count": 1454,
   "metadata": {},
   "outputs": [],
   "source": [
    "#creating a column for each brand, product_line, product_class, product_size, gender,wealth_segment and job_industry_category value \n",
    "def dummy_df(df):\n",
    "    todummy_list = ['brand', 'product_line', 'product_size', 'product_class','gender','job_industry_category', 'wealth_segment']\n",
    "    for x in todummy_list:\n",
    "        dummies = pd.get_dummies(df[x], dummy_na = False)\n",
    "        df = df.drop(x, 1)\n",
    "        df = pd.concat([df, dummies], axis = 1)\n",
    "    \n",
    "    return df"
   ]
  },
  {
   "cell_type": "code",
   "execution_count": 1455,
   "metadata": {},
   "outputs": [
    {
     "data": {
      "text/html": [
       "<div>\n",
       "<style scoped>\n",
       "    .dataframe tbody tr th:only-of-type {\n",
       "        vertical-align: middle;\n",
       "    }\n",
       "\n",
       "    .dataframe tbody tr th {\n",
       "        vertical-align: top;\n",
       "    }\n",
       "\n",
       "    .dataframe thead th {\n",
       "        text-align: right;\n",
       "    }\n",
       "</style>\n",
       "<table border=\"1\" class=\"dataframe\">\n",
       "  <thead>\n",
       "    <tr style=\"text-align: right;\">\n",
       "      <th></th>\n",
       "      <th>online_order</th>\n",
       "      <th>list_price</th>\n",
       "      <th>standard_cost</th>\n",
       "      <th>profit</th>\n",
       "      <th>past_3_years_bike_related_purchases</th>\n",
       "      <th>DOB</th>\n",
       "      <th>deceased_indicator</th>\n",
       "      <th>owns_car</th>\n",
       "      <th>tenure</th>\n",
       "      <th>Giant Bicycles</th>\n",
       "      <th>...</th>\n",
       "      <th>Financial Services</th>\n",
       "      <th>Health</th>\n",
       "      <th>IT</th>\n",
       "      <th>Manufacturing</th>\n",
       "      <th>Property</th>\n",
       "      <th>Retail</th>\n",
       "      <th>Telecommunications</th>\n",
       "      <th>Affluent Customer</th>\n",
       "      <th>High Net Worth</th>\n",
       "      <th>Mass Customer</th>\n",
       "    </tr>\n",
       "  </thead>\n",
       "  <tbody>\n",
       "    <tr>\n",
       "      <th>0</th>\n",
       "      <td>0.0</td>\n",
       "      <td>71.49</td>\n",
       "      <td>53.62</td>\n",
       "      <td>0</td>\n",
       "      <td>19</td>\n",
       "      <td>65.0</td>\n",
       "      <td>0</td>\n",
       "      <td>1</td>\n",
       "      <td>10.0</td>\n",
       "      <td>0</td>\n",
       "      <td>...</td>\n",
       "      <td>1</td>\n",
       "      <td>0</td>\n",
       "      <td>0</td>\n",
       "      <td>0</td>\n",
       "      <td>0</td>\n",
       "      <td>0</td>\n",
       "      <td>0</td>\n",
       "      <td>0</td>\n",
       "      <td>0</td>\n",
       "      <td>1</td>\n",
       "    </tr>\n",
       "    <tr>\n",
       "      <th>1</th>\n",
       "      <td>0.0</td>\n",
       "      <td>1403.50</td>\n",
       "      <td>954.82</td>\n",
       "      <td>1</td>\n",
       "      <td>19</td>\n",
       "      <td>65.0</td>\n",
       "      <td>0</td>\n",
       "      <td>1</td>\n",
       "      <td>10.0</td>\n",
       "      <td>1</td>\n",
       "      <td>...</td>\n",
       "      <td>1</td>\n",
       "      <td>0</td>\n",
       "      <td>0</td>\n",
       "      <td>0</td>\n",
       "      <td>0</td>\n",
       "      <td>0</td>\n",
       "      <td>0</td>\n",
       "      <td>0</td>\n",
       "      <td>0</td>\n",
       "      <td>1</td>\n",
       "    </tr>\n",
       "    <tr>\n",
       "      <th>2</th>\n",
       "      <td>0.0</td>\n",
       "      <td>478.16</td>\n",
       "      <td>298.72</td>\n",
       "      <td>0</td>\n",
       "      <td>19</td>\n",
       "      <td>65.0</td>\n",
       "      <td>0</td>\n",
       "      <td>1</td>\n",
       "      <td>10.0</td>\n",
       "      <td>0</td>\n",
       "      <td>...</td>\n",
       "      <td>1</td>\n",
       "      <td>0</td>\n",
       "      <td>0</td>\n",
       "      <td>0</td>\n",
       "      <td>0</td>\n",
       "      <td>0</td>\n",
       "      <td>0</td>\n",
       "      <td>0</td>\n",
       "      <td>0</td>\n",
       "      <td>1</td>\n",
       "    </tr>\n",
       "    <tr>\n",
       "      <th>3</th>\n",
       "      <td>1.0</td>\n",
       "      <td>2091.47</td>\n",
       "      <td>388.92</td>\n",
       "      <td>1</td>\n",
       "      <td>89</td>\n",
       "      <td>41.0</td>\n",
       "      <td>0</td>\n",
       "      <td>1</td>\n",
       "      <td>10.0</td>\n",
       "      <td>0</td>\n",
       "      <td>...</td>\n",
       "      <td>0</td>\n",
       "      <td>1</td>\n",
       "      <td>0</td>\n",
       "      <td>0</td>\n",
       "      <td>0</td>\n",
       "      <td>0</td>\n",
       "      <td>0</td>\n",
       "      <td>0</td>\n",
       "      <td>0</td>\n",
       "      <td>1</td>\n",
       "    </tr>\n",
       "    <tr>\n",
       "      <th>4</th>\n",
       "      <td>0.0</td>\n",
       "      <td>1129.13</td>\n",
       "      <td>677.48</td>\n",
       "      <td>1</td>\n",
       "      <td>89</td>\n",
       "      <td>41.0</td>\n",
       "      <td>0</td>\n",
       "      <td>1</td>\n",
       "      <td>10.0</td>\n",
       "      <td>1</td>\n",
       "      <td>...</td>\n",
       "      <td>0</td>\n",
       "      <td>1</td>\n",
       "      <td>0</td>\n",
       "      <td>0</td>\n",
       "      <td>0</td>\n",
       "      <td>0</td>\n",
       "      <td>0</td>\n",
       "      <td>0</td>\n",
       "      <td>0</td>\n",
       "      <td>1</td>\n",
       "    </tr>\n",
       "  </tbody>\n",
       "</table>\n",
       "<p>5 rows × 40 columns</p>\n",
       "</div>"
      ],
      "text/plain": [
       "   online_order  list_price  standard_cost  profit  \\\n",
       "0           0.0       71.49          53.62       0   \n",
       "1           0.0     1403.50         954.82       1   \n",
       "2           0.0      478.16         298.72       0   \n",
       "3           1.0     2091.47         388.92       1   \n",
       "4           0.0     1129.13         677.48       1   \n",
       "\n",
       "   past_3_years_bike_related_purchases   DOB  deceased_indicator  owns_car  \\\n",
       "0                                   19  65.0                   0         1   \n",
       "1                                   19  65.0                   0         1   \n",
       "2                                   19  65.0                   0         1   \n",
       "3                                   89  41.0                   0         1   \n",
       "4                                   89  41.0                   0         1   \n",
       "\n",
       "   tenure  Giant Bicycles  ...  Financial Services  Health  IT  Manufacturing  \\\n",
       "0    10.0               0  ...                   1       0   0              0   \n",
       "1    10.0               1  ...                   1       0   0              0   \n",
       "2    10.0               0  ...                   1       0   0              0   \n",
       "3    10.0               0  ...                   0       1   0              0   \n",
       "4    10.0               1  ...                   0       1   0              0   \n",
       "\n",
       "   Property  Retail  Telecommunications  Affluent Customer  High Net Worth  \\\n",
       "0         0       0                   0                  0               0   \n",
       "1         0       0                   0                  0               0   \n",
       "2         0       0                   0                  0               0   \n",
       "3         0       0                   0                  0               0   \n",
       "4         0       0                   0                  0               0   \n",
       "\n",
       "   Mass Customer  \n",
       "0              1  \n",
       "1              1  \n",
       "2              1  \n",
       "3              1  \n",
       "4              1  \n",
       "\n",
       "[5 rows x 40 columns]"
      ]
     },
     "execution_count": 1455,
     "metadata": {},
     "output_type": "execute_result"
    }
   ],
   "source": [
    "merged_df = dummy_df(merged_df)\n",
    "merged_df.head()"
   ]
  },
  {
   "cell_type": "code",
   "execution_count": 1456,
   "metadata": {},
   "outputs": [
    {
     "data": {
      "text/plain": [
       "DOB               446\n",
       "tenure            446\n",
       "online_order      360\n",
       "Norco Bicycles      0\n",
       "Standard            0\n",
       "dtype: int64"
      ]
     },
     "execution_count": 1456,
     "metadata": {},
     "output_type": "execute_result"
    }
   ],
   "source": [
    "merged_df.isnull().sum().sort_values(ascending = False).head()"
   ]
  },
  {
   "cell_type": "code",
   "execution_count": 1457,
   "metadata": {},
   "outputs": [],
   "source": [
    "merged_df['DOB'] = merged_df['DOB'].fillna((merged_df['DOB'].median()))\n",
    "merged_df['tenure'] = merged_df['tenure'].fillna((merged_df['tenure'].median()))\n",
    "merged_df['online_order'] = merged_df['online_order'].fillna((merged_df['online_order'].mean()))"
   ]
  },
  {
   "cell_type": "code",
   "execution_count": 1458,
   "metadata": {},
   "outputs": [
    {
     "data": {
      "text/plain": [
       "Mass Customer     0\n",
       "High Net Worth    0\n",
       "Standard          0\n",
       "Road              0\n",
       "Mountain          0\n",
       "dtype: int64"
      ]
     },
     "execution_count": 1458,
     "metadata": {},
     "output_type": "execute_result"
    }
   ],
   "source": [
    "merged_df.isnull().sum().sort_values(ascending = False).head()"
   ]
  },
  {
   "cell_type": "code",
   "execution_count": 1459,
   "metadata": {},
   "outputs": [
    {
     "name": "stdout",
     "output_type": "stream",
     "text": [
      "(19997, 39)\n"
     ]
    }
   ],
   "source": [
    "X = merged_df.drop('profit', 1)\n",
    "y = merged_df['profit']\n",
    "print(X.shape)"
   ]
  },
  {
   "cell_type": "code",
   "execution_count": 1460,
   "metadata": {},
   "outputs": [],
   "source": [
    "from sklearn.metrics import accuracy_score\n",
    "from sklearn.model_selection import train_test_split\n",
    "from sklearn.metrics import classification_report,confusion_matrix\n",
    "from sklearn import linear_model\n",
    "from sklearn.linear_model import LogisticRegression\n",
    "from sklearn.svm import SVC, LinearSVC\n",
    "from sklearn.ensemble import RandomForestClassifier, AdaBoostClassifier, BaggingClassifier\n",
    "from sklearn.neighbors import KNeighborsClassifier\n",
    "from sklearn.naive_bayes import GaussianNB\n",
    "from sklearn.linear_model import Perceptron\n",
    "from sklearn.linear_model import SGDClassifier\n",
    "from sklearn.tree import DecisionTreeClassifier\n",
    "from sklearn.neural_network import MLPClassifier"
   ]
  },
  {
   "cell_type": "code",
   "execution_count": 1461,
   "metadata": {},
   "outputs": [
    {
     "name": "stdout",
     "output_type": "stream",
     "text": [
      "(13997, 39)\n",
      "(6000, 39)\n",
      "(13997,)\n",
      "(6000,)\n"
     ]
    }
   ],
   "source": [
    "from sklearn.model_selection import train_test_split\n",
    "x_train, x_test, y_train, y_test = train_test_split(X, y, test_size = 0.30, random_state = 0)\n",
    "print(x_train.shape)\n",
    "print(x_test.shape)\n",
    "print(y_train.shape)\n",
    "print(y_test.shape)"
   ]
  },
  {
   "cell_type": "code",
   "execution_count": 1462,
   "metadata": {},
   "outputs": [
    {
     "name": "stdout",
     "output_type": "stream",
     "text": [
      "Linear Regression Train Score: \n",
      " 74.73\n",
      "Linear Regression Test Score: \n",
      " 74.6\n",
      "Coefficient: \n",
      " [ 4.20427028e-03  7.92165240e-04 -5.03092528e-04  3.55869143e-05\n",
      " -1.14027208e-04 -1.76003158e-01 -5.22386195e-03 -1.77336752e-04\n",
      "  1.47900103e-01  2.18827584e-02  5.88932537e-03  2.41700815e-03\n",
      " -1.19503284e-01  5.27222430e-02  1.07665247e-01  4.95767140e-02\n",
      "  8.22742380e-02 -1.28208046e-01  1.34703970e-01  2.29554761e-01\n",
      " -2.52950577e-01  6.39415311e-02  2.77565682e-02  1.96100538e-02\n",
      " -4.39633931e-03 -8.01459940e-03  1.24109387e-02  1.12279852e-02\n",
      "  6.77703950e-03  3.02244727e-03 -9.45649279e-03 -1.54692303e-02\n",
      "  6.13876142e-03  3.33323636e-03 -4.07364257e-03 -2.03631523e-02\n",
      "  6.28404516e-03 -7.95293011e-03  1.66888495e-03]\n",
      "Intercept: \n",
      " -0.30248158739577524\n",
      "6000\n",
      "6000\n",
      "6000\n"
     ]
    }
   ],
   "source": [
    "lin = linear_model.LinearRegression()\n",
    "lin.fit(x_train, y_train)\n",
    "lin_predicted = lin.predict(x_test)\n",
    "\n",
    "lin_training_score = round(lin.score(x_train, y_train) * 100, 2)\n",
    "lin_test_score = round(lin.score(x_test, y_test) * 100, 2)\n",
    "print('Linear Regression Train Score: \\n', lin_training_score)\n",
    "print('Linear Regression Test Score: \\n', lin_test_score)\n",
    "print('Coefficient: \\n', lin.coef_)\n",
    "print('Intercept: \\n', lin.intercept_)\n",
    "print(len(x_test))\n",
    "print(len(y_test))\n",
    "print(len(lin_predicted))"
   ]
  },
  {
   "cell_type": "code",
   "execution_count": 1463,
   "metadata": {},
   "outputs": [
    {
     "name": "stdout",
     "output_type": "stream",
     "text": [
      "Logistic Regression Training score: \n",
      " 99.94\n",
      "Logistic Regression Test Score: \n",
      " 99.88\n",
      "Coefficient:  \n",
      " [[-1.27301554e+00  6.88719324e-02 -6.94739142e-02 -9.48341276e-03\n",
      "  -4.68215289e-02 -1.67446706e-04 -1.29038966e+00 -8.72434009e-02\n",
      "   2.38061137e+00 -2.49782670e+00  6.00164658e-01 -4.41679981e+00\n",
      "  -1.16436184e+00 -2.45234996e-01 -1.33503780e-01 -2.79570668e+00\n",
      "  -2.33179917e+00 -8.24376873e-02 -3.29987282e+00 -1.18413180e+00\n",
      "  -8.59442697e-01 -1.53987457e+00 -5.69983834e-02 -3.74657437e+00\n",
      "  -2.41325270e+00 -2.65733297e+00 -2.73919939e-01 -9.62403546e-02\n",
      "  -3.60437459e-02 -9.24265876e-01 -7.19953011e-01 -5.98070957e-01\n",
      "  -8.18738563e-01 -3.72926553e-01 -5.89246750e-01 -2.28170153e-01\n",
      "  -1.34486792e+00 -1.83248153e+00 -2.16715615e+00]]\n",
      "Intercept:  \n",
      " [-5.51228172]\n",
      "Accuracy: \n",
      " 0.9988333333333334\n",
      "Classification Report:  \n",
      "               precision    recall  f1-score   support\n",
      "\n",
      "           0       1.00      1.00      1.00      2816\n",
      "           1       1.00      1.00      1.00      3184\n",
      "\n",
      "    accuracy                           1.00      6000\n",
      "   macro avg       1.00      1.00      1.00      6000\n",
      "weighted avg       1.00      1.00      1.00      6000\n",
      "\n"
     ]
    },
    {
     "name": "stderr",
     "output_type": "stream",
     "text": [
      "/home/sdahal2/.local/lib/python3.6/site-packages/sklearn/linear_model/_logistic.py:764: ConvergenceWarning: lbfgs failed to converge (status=1):\n",
      "STOP: TOTAL NO. of ITERATIONS REACHED LIMIT.\n",
      "\n",
      "Increase the number of iterations (max_iter) or scale the data as shown in:\n",
      "    https://scikit-learn.org/stable/modules/preprocessing.html\n",
      "Please also refer to the documentation for alternative solver options:\n",
      "    https://scikit-learn.org/stable/modules/linear_model.html#logistic-regression\n",
      "  extra_warning_msg=_LOGISTIC_SOLVER_CONVERGENCE_MSG)\n"
     ]
    }
   ],
   "source": [
    "log = LogisticRegression()\n",
    "log.fit(x_train, y_train)\n",
    "log_predicted = log.predict(x_test)\n",
    "log_train_score = round(log.score(x_train, y_train)*100, 2)\n",
    "log_test_score = round(log.score(x_test, y_test)*100, 2)\n",
    "accuracy = accuracy_score(y_test, log_predicted)\n",
    "print('Logistic Regression Training score: \\n', log_train_score)\n",
    "print('Logistic Regression Test Score: \\n', log_test_score)\n",
    "print('Coefficient:  \\n', log.coef_)\n",
    "print('Intercept:  \\n', log.intercept_)\n",
    "print('Accuracy: \\n', accuracy)\n",
    "print('Classification Report:  \\n', classification_report(y_test, log_predicted))\n"
   ]
  },
  {
   "cell_type": "code",
   "execution_count": 1464,
   "metadata": {},
   "outputs": [
    {
     "name": "stdout",
     "output_type": "stream",
     "text": [
      "[[2812    4]\n",
      " [   3 3181]]\n"
     ]
    },
    {
     "data": {
      "text/plain": [
       "<matplotlib.axes._subplots.AxesSubplot at 0x7f2b3e2ca860>"
      ]
     },
     "execution_count": 1464,
     "metadata": {},
     "output_type": "execute_result"
    },
    {
     "data": {
      "image/png": "[encoded data removed]",
      "text/plain": [
       "<Figure size 432x288 with 2 Axes>"
      ]
     },
     "metadata": {
      "needs_background": "light"
     },
     "output_type": "display_data"
    }
   ],
   "source": [
    "cm = confusion_matrix(y_test, log_predicted)\n",
    "print(cm)\n",
    "sns.heatmap(cm, annot = True , fmt = \"d\")"
   ]
  },
  {
   "cell_type": "raw",
   "metadata": {},
   "source": [
    "##### From our confusion matrix, we conclude that:\n",
    "    True Positives: 2812(We predicted a positive result and it was positive)\n",
    "    True negative: 4(We predicted a negative result and it was negative)\n",
    "    False positive: 3181(We predicted a positive result and it was negative)\n",
    "    False negative: 3(We predicted a negative result and it was positive)"
   ]
  },
  {
   "cell_type": "code",
   "execution_count": 1465,
   "metadata": {},
   "outputs": [
    {
     "name": "stdout",
     "output_type": "stream",
     "text": [
      "Random Forest Training Score: \n",
      " 100.0\n",
      "Random Forest Testing Score: \n",
      " 100.0\n",
      "Accuracy: \n",
      " 1.0\n",
      "Classification Report:  \n",
      "               precision    recall  f1-score   support\n",
      "\n",
      "           0       1.00      1.00      1.00      2816\n",
      "           1       1.00      1.00      1.00      3184\n",
      "\n",
      "    accuracy                           1.00      6000\n",
      "   macro avg       1.00      1.00      1.00      6000\n",
      "weighted avg       1.00      1.00      1.00      6000\n",
      "\n"
     ]
    }
   ],
   "source": [
    "random_forest = RandomForestClassifier(n_estimators = 100)\n",
    "random_forest.fit(x_train, y_train)\n",
    "random_forest_predicted = random_forest.predict(x_test)\n",
    "random_forest_training_score = round(random_forest.score(x_train, y_train) *100, 2 )\n",
    "random_forest_testing_score = round(random_forest.score(x_test, y_test)*100, 2)\n",
    "print('Random Forest Training Score: \\n', random_forest_training_score)\n",
    "print('Random Forest Testing Score: \\n', random_forest_testing_score)\n",
    "print('Accuracy: \\n', accuracy_score(y_test, random_forest_predicted))\n",
    "print('Classification Report:  \\n', classification_report(y_test, random_forest_predicted))"
   ]
  },
  {
   "cell_type": "code",
   "execution_count": 1466,
   "metadata": {
    "scrolled": true
   },
   "outputs": [
    {
     "name": "stdout",
     "output_type": "stream",
     "text": [
      "[[2816    0]\n",
      " [   0 3184]]\n"
     ]
    },
    {
     "data": {
      "text/plain": [
       "<matplotlib.axes._subplots.AxesSubplot at 0x7f2b3b999748>"
      ]
     },
     "execution_count": 1466,
     "metadata": {},
     "output_type": "execute_result"
    },
    {
     "data": {
      "image/png": "[encoded data removed]",
      "text/plain": [
       "<Figure size 432x288 with 2 Axes>"
      ]
     },
     "metadata": {
      "needs_background": "light"
     },
     "output_type": "display_data"
    }
   ],
   "source": [
    "cm = confusion_matrix(y_test, random_forest_predicted)\n",
    "print(cm)\n",
    "sns.heatmap(cm, annot = True , fmt = \"d\")"
   ]
  },
  {
   "cell_type": "raw",
   "metadata": {},
   "source": [
    "From our confusion matrix, we conclude that: True Positives: 2816(We predicted a positive result and it was positive) True negative: 0(We predicted a negative result and it was negative) False positive: 3184(We predicted a positive result and it was negative) False negative: 0(We predicted a negative result and it was positive"
   ]
  },
  {
   "cell_type": "code",
   "execution_count": 1467,
   "metadata": {},
   "outputs": [
    {
     "data": {
      "image/png": "[encoded data removed]",
      "text/plain": [
       "<Figure size 1440x720 with 1 Axes>"
      ]
     },
     "metadata": {
      "needs_background": "light"
     },
     "output_type": "display_data"
    }
   ],
   "source": [
    "neighborhood = np.array(range(1, 10))\n",
    "train_accuracy, test_accuracy = [], []\n",
    "\n",
    "# loop over different values of k\n",
    "for k in neighborhood:\n",
    "    knn = KNeighborsClassifier(n_neighbors=k)\n",
    "    knn.fit(x_train,y_train)\n",
    "    train_accuracy.append(knn.score(x_train, y_train))\n",
    "    test_accuracy.append(knn.score(x_test, y_test))\n",
    "\n",
    "plt.figure(figsize=(20,10))\n",
    "plt.plot(neighborhood, test_accuracy, label = 'Test Accuracy')\n",
    "plt.plot(neighborhood, train_accuracy, label = 'Train Accuracy')\n",
    "plt.xlabel('K value',fontsize=10)\n",
    "plt.ylabel('Accuracy',fontsize=10)\n",
    "plt.title('K-Value VS Accuracy',fontsize=10)\n",
    "\n",
    "plt.xticks(neighborhood)\n",
    "plt.legend(['Test Accuracy', 'Train Accuracy'])\n",
    "plt.show()\n",
    "\n"
   ]
  },
  {
   "cell_type": "code",
   "execution_count": 1468,
   "metadata": {},
   "outputs": [
    {
     "name": "stdout",
     "output_type": "stream",
     "text": [
      "The best test accuracy is 1.0\n",
      "The best k value is  1\n"
     ]
    }
   ],
   "source": [
    "best_test_accuracy = max(test_accuracy)\n",
    "print(\"The best test accuracy is\", best_test_accuracy)\n",
    "k_value = 1 + test_accuracy.index(best_test_accuracy)\n",
    "print(\"The best k value is \", k_value)"
   ]
  },
  {
   "cell_type": "code",
   "execution_count": 1469,
   "metadata": {},
   "outputs": [
    {
     "data": {
      "text/plain": [
       "KNeighborsClassifier(n_neighbors=1)"
      ]
     },
     "execution_count": 1469,
     "metadata": {},
     "output_type": "execute_result"
    }
   ],
   "source": [
    "knn = KNeighborsClassifier(n_neighbors = 1)\n",
    "knn.fit(x_train, y_train)"
   ]
  },
  {
   "cell_type": "code",
   "execution_count": 1470,
   "metadata": {},
   "outputs": [
    {
     "name": "stdout",
     "output_type": "stream",
     "text": [
      "Training accuracy is:  100.0\n",
      "Testing accuracy is:  100.0\n",
      "Classification Report:  \n",
      "               precision    recall  f1-score   support\n",
      "\n",
      "           0       1.00      1.00      1.00      2816\n",
      "           1       1.00      1.00      1.00      3184\n",
      "\n",
      "    accuracy                           1.00      6000\n",
      "   macro avg       1.00      1.00      1.00      6000\n",
      "weighted avg       1.00      1.00      1.00      6000\n",
      "\n"
     ]
    }
   ],
   "source": [
    "y_prediction = knn.predict(x_test)\n",
    "training_accuracy = round(accuracy_score(y_train, knn.predict(x_train)) *100, 2)\n",
    "testing_accuracy = round(accuracy_score(y_test, y_prediction)*100 , 2)\n",
    "print(\"Training accuracy is: \", training_accuracy)\n",
    "print(\"Testing accuracy is: \", testing_accuracy)\n",
    "print('Classification Report:  \\n', classification_report(y_test, y_prediction ))"
   ]
  },
  {
   "cell_type": "code",
   "execution_count": 1471,
   "metadata": {},
   "outputs": [
    {
     "name": "stdout",
     "output_type": "stream",
     "text": [
      "[[2816    0]\n",
      " [   0 3184]]\n"
     ]
    },
    {
     "data": {
      "text/plain": [
       "<matplotlib.axes._subplots.AxesSubplot at 0x7f2b3c33b6d8>"
      ]
     },
     "execution_count": 1471,
     "metadata": {},
     "output_type": "execute_result"
    },
    {
     "data": {
      "image/png": "[encoded data removed]",
      "text/plain": [
       "<Figure size 432x288 with 2 Axes>"
      ]
     },
     "metadata": {
      "needs_background": "light"
     },
     "output_type": "display_data"
    }
   ],
   "source": [
    "cm = confusion_matrix(y_test, y_prediction)\n",
    "print(cm)\n",
    "sns.heatmap(cm, annot = True , fmt = \"d\")"
   ]
  },
  {
   "cell_type": "raw",
   "metadata": {},
   "source": [
    "From our confusion matrix, we conclude that: True Positives: 2816(We predicted a positive result and it was positive) True negative: 0(We predicted a negative result and it was negative) False positive: 3184(We predicted a positive result and it was negative) False negative: 0(We predicted a negative result and it was positive"
   ]
  },
  {
   "cell_type": "code",
   "execution_count": 1472,
   "metadata": {},
   "outputs": [
    {
     "data": {
      "text/html": [
       "<div>\n",
       "<style scoped>\n",
       "    .dataframe tbody tr th:only-of-type {\n",
       "        vertical-align: middle;\n",
       "    }\n",
       "\n",
       "    .dataframe tbody tr th {\n",
       "        vertical-align: top;\n",
       "    }\n",
       "\n",
       "    .dataframe thead th {\n",
       "        text-align: right;\n",
       "    }\n",
       "</style>\n",
       "<table border=\"1\" class=\"dataframe\">\n",
       "  <thead>\n",
       "    <tr style=\"text-align: right;\">\n",
       "      <th></th>\n",
       "      <th>Model</th>\n",
       "      <th>Training Score</th>\n",
       "      <th>Test Score</th>\n",
       "    </tr>\n",
       "  </thead>\n",
       "  <tbody>\n",
       "    <tr>\n",
       "      <th>2</th>\n",
       "      <td>Random Forest</td>\n",
       "      <td>100.00</td>\n",
       "      <td>100.00</td>\n",
       "    </tr>\n",
       "    <tr>\n",
       "      <th>3</th>\n",
       "      <td>KNN</td>\n",
       "      <td>100.00</td>\n",
       "      <td>100.00</td>\n",
       "    </tr>\n",
       "    <tr>\n",
       "      <th>1</th>\n",
       "      <td>Logistic Regression</td>\n",
       "      <td>99.94</td>\n",
       "      <td>99.88</td>\n",
       "    </tr>\n",
       "    <tr>\n",
       "      <th>0</th>\n",
       "      <td>Linear Regression</td>\n",
       "      <td>74.73</td>\n",
       "      <td>74.60</td>\n",
       "    </tr>\n",
       "  </tbody>\n",
       "</table>\n",
       "</div>"
      ],
      "text/plain": [
       "                 Model  Training Score  Test Score\n",
       "2        Random Forest          100.00      100.00\n",
       "3                  KNN          100.00      100.00\n",
       "1  Logistic Regression           99.94       99.88\n",
       "0    Linear Regression           74.73       74.60"
      ]
     },
     "execution_count": 1472,
     "metadata": {},
     "output_type": "execute_result"
    }
   ],
   "source": [
    "model_evaluation = pd.DataFrame({\n",
    "    'Model': [ 'Linear Regression','Logistic Regression', 'Random Forest', 'KNN'],\n",
    "    'Training Score': [lin_training_score, log_train_score, random_forest_training_score, training_accuracy],\n",
    "    'Test Score': [ lin_test_score, log_test_score, random_forest_testing_score, testing_accuracy],\n",
    "    })\n",
    "model_evaluation.sort_values(by='Test Score', ascending=False)"
   ]
  },
  {
   "cell_type": "code",
   "execution_count": null,
   "metadata": {},
   "outputs": [],
   "source": []
  }
 ],
 "metadata": {
  "kernelspec": {
   "display_name": "Python 3",
   "language": "python",
   "name": "python3"
  },
  "language_info": {
   "codemirror_mode": {
    "name": "ipython",
    "version": 3
   },
   "file_extension": ".py",
   "mimetype": "text/x-python",
   "name": "python",
   "nbconvert_exporter": "python",
   "pygments_lexer": "ipython3",
   "version": "3.6.9"
  }
 },
 "nbformat": 4,
 "nbformat_minor": 4
}
